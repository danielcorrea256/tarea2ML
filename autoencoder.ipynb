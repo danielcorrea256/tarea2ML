{
 "cells": [
  {
   "cell_type": "markdown",
   "id": "5bbebe60",
   "metadata": {},
   "source": [
    "# Tarea 2"
   ]
  },
  {
   "cell_type": "code",
   "execution_count": 1,
   "id": "99207c52",
   "metadata": {},
   "outputs": [],
   "source": [
    "import tqdm\n",
    "import torch\n",
    "import torch.nn as nn\n",
    "import torch.optim as optim\n",
    "from torchvision import datasets, transforms\n",
    "from torch.utils.data import DataLoader\n",
    "import matplotlib.pyplot as plt"
   ]
  },
  {
   "cell_type": "markdown",
   "id": "0aee9ac1",
   "metadata": {},
   "source": [
    "## Construya la arquitectura de una red neuronal Autoencoder en PyTorch"
   ]
  },
  {
   "cell_type": "markdown",
   "id": "da93f81e",
   "metadata": {},
   "source": [
    "Vamos a usar el dataset de MNIST para esta tarea. El objetivo es construir un Autoencoder que pueda aprender a comprimir y descomprimir imágenes de dígitos escritos a mano."
   ]
  },
  {
   "cell_type": "code",
   "execution_count": 2,
   "id": "7deffa1b",
   "metadata": {},
   "outputs": [],
   "source": [
    "train_data = datasets.MNIST(root='./data', train=True, download=True, transform=transforms.ToTensor())\n",
    "train_loader = DataLoader(train_data, batch_size=64, shuffle=True)"
   ]
  },
  {
   "cell_type": "code",
   "execution_count": 3,
   "id": "787dd7b1",
   "metadata": {},
   "outputs": [],
   "source": [
    "test_data = datasets.MNIST(root='./data', train=False, download=True, transform=transforms.ToTensor())\n",
    "test_loader = DataLoader(test_data, batch_size=64, shuffle=False)"
   ]
  },
  {
   "cell_type": "markdown",
   "id": "c433e75f",
   "metadata": {},
   "source": [
    "Vemos que las imagenes son de 28x28 píxeles y en escala de grises (1 canal)."
   ]
  },
  {
   "cell_type": "code",
   "execution_count": 4,
   "id": "028e1e2d",
   "metadata": {},
   "outputs": [
    {
     "data": {
      "text/plain": [
       "torch.Size([1, 28, 28])"
      ]
     },
     "execution_count": 4,
     "metadata": {},
     "output_type": "execute_result"
    }
   ],
   "source": [
    "# Obtenemos las dimensiones de las imágenes del dataset\n",
    "train_data[0][0].shape"
   ]
  },
  {
   "cell_type": "markdown",
   "id": "aa235776",
   "metadata": {},
   "source": [
    "Voy a aprovechar el mps backend de PyTorch para acelerar los entrenamientos."
   ]
  },
  {
   "cell_type": "code",
   "execution_count": 5,
   "id": "dfa3d4fe",
   "metadata": {},
   "outputs": [],
   "source": [
    "device = torch.device(\"mps\" if torch.backends.mps.is_available() else \"cpu\")"
   ]
  },
  {
   "cell_type": "markdown",
   "id": "89b2d38a",
   "metadata": {},
   "source": [
    "### Simple Autoencoder"
   ]
  },
  {
   "cell_type": "markdown",
   "id": "b5903b55",
   "metadata": {},
   "source": [
    "El autoencoder simple se compone de una capa de codificación y una capa de decodificación, ambas lineales. La idea es que la red aprenda a comprimir la imagen en un espacio latente y luego reconstruirla."
   ]
  },
  {
   "cell_type": "markdown",
   "id": "9f26449e",
   "metadata": {},
   "source": [
    "#### Arquitectura (Simple Autoencoder)"
   ]
  },
  {
   "cell_type": "markdown",
   "id": "6011f0e5",
   "metadata": {},
   "source": [
    "Las capas del encoder y decoder son lineales, y la función de activación es ReLU."
   ]
  },
  {
   "cell_type": "markdown",
   "id": "fcba5604",
   "metadata": {},
   "source": [
    "![image.png](https://tikz.net/janosh/autoencoder.png)"
   ]
  },
  {
   "cell_type": "code",
   "execution_count": 6,
   "id": "338c03eb",
   "metadata": {},
   "outputs": [],
   "source": [
    "class SimpleAutoencoder(nn.Module):\n",
    "    \"\"\"\n",
    "    Autoencoder simple para la compresión de imágenes.\n",
    "    Este modelo consta de un codificador y un decodificador, ambos compuestos por capas lineales\n",
    "    y funciones de activación ReLU. El codificador reduce la dimensionalidad de la entrada\n",
    "    a un espacio latente de 16 dimensiones, mientras que el decodificador reconstruye\n",
    "    la entrada original a partir de este espacio latente.\n",
    "    Args:\n",
    "        input_size (int): Tamaño de la entrada del modelo, que debe coincidir con el tamaño\n",
    "                          de las imágenes aplanadas (por ejemplo, 28*28 para MNIST).\n",
    "    Attributes:\n",
    "        encoder (nn.Sequential): Secuencia de capas del codificador que reduce la dimensionalidad.\n",
    "        decoder (nn.Sequential): Secuencia de capas del decodificador que reconstruye la entrada\n",
    "                                a partir del espacio latente.\n",
    "    \"\"\"\n",
    "    def __init__(self, input_size):\n",
    "        super().__init__()\n",
    "\n",
    "        # Encoder\n",
    "        self.encoder = nn.Sequential(\n",
    "            nn.Linear(input_size, 256),  # Asumimos que el input esta aplanado\n",
    "            nn.ReLU(),\n",
    "            nn.Linear(256, 128),  \n",
    "            nn.ReLU(),\n",
    "            nn.Linear(128, 64),\n",
    "            nn.ReLU(),\n",
    "            nn.Linear(64, 32),\n",
    "            nn.ReLU(),\n",
    "            nn.Linear(32, 16),\n",
    "            nn.ReLU(),\n",
    "        )\n",
    "\n",
    "        # Decoder\n",
    "        self.decoder = nn.Sequential(\n",
    "            nn.Linear(16, 32),\n",
    "            nn.ReLU(),\n",
    "            nn.Linear(32, 64),\n",
    "            nn.ReLU(),\n",
    "            nn.Linear(64, 128),\n",
    "            nn.ReLU(),\n",
    "            nn.Linear(128, 256),\n",
    "            nn.ReLU(),\n",
    "            nn.Linear(256, input_size),\n",
    "            nn.ReLU()\n",
    "        )\n",
    "\n",
    "    def forward(self, x):\n",
    "        x = self.encoder(x)\n",
    "        x = self.decoder(x)\n",
    "        return x"
   ]
  },
  {
   "cell_type": "markdown",
   "id": "461e0474",
   "metadata": {},
   "source": [
    "#### Train model (Simple Autoencoder)"
   ]
  },
  {
   "cell_type": "code",
   "execution_count": 7,
   "id": "6a7542ed",
   "metadata": {},
   "outputs": [
    {
     "name": "stderr",
     "output_type": "stream",
     "text": [
      "Training Epochs:  10%|█         | 1/10 [00:04<00:43,  4.88s/it]"
     ]
    },
    {
     "name": "stdout",
     "output_type": "stream",
     "text": [
      "Epoch [1/10], Loss (MSE): 0.0183\n"
     ]
    },
    {
     "name": "stderr",
     "output_type": "stream",
     "text": [
      "Training Epochs:  20%|██        | 2/10 [00:09<00:35,  4.49s/it]"
     ]
    },
    {
     "name": "stdout",
     "output_type": "stream",
     "text": [
      "Epoch [2/10], Loss (MSE): 0.0134\n"
     ]
    },
    {
     "name": "stderr",
     "output_type": "stream",
     "text": [
      "Training Epochs:  30%|███       | 3/10 [00:13<00:30,  4.36s/it]"
     ]
    },
    {
     "name": "stdout",
     "output_type": "stream",
     "text": [
      "Epoch [3/10], Loss (MSE): 0.0104\n"
     ]
    },
    {
     "name": "stderr",
     "output_type": "stream",
     "text": [
      "Training Epochs:  40%|████      | 4/10 [00:18<00:27,  4.66s/it]"
     ]
    },
    {
     "name": "stdout",
     "output_type": "stream",
     "text": [
      "Epoch [4/10], Loss (MSE): 0.0091\n"
     ]
    },
    {
     "name": "stderr",
     "output_type": "stream",
     "text": [
      "Training Epochs:  50%|█████     | 5/10 [00:22<00:22,  4.60s/it]"
     ]
    },
    {
     "name": "stdout",
     "output_type": "stream",
     "text": [
      "Epoch [5/10], Loss (MSE): 0.0085\n"
     ]
    },
    {
     "name": "stderr",
     "output_type": "stream",
     "text": [
      "Training Epochs:  60%|██████    | 6/10 [00:27<00:17,  4.48s/it]"
     ]
    },
    {
     "name": "stdout",
     "output_type": "stream",
     "text": [
      "Epoch [6/10], Loss (MSE): 0.0080\n"
     ]
    },
    {
     "name": "stderr",
     "output_type": "stream",
     "text": [
      "Training Epochs:  70%|███████   | 7/10 [00:31<00:13,  4.39s/it]"
     ]
    },
    {
     "name": "stdout",
     "output_type": "stream",
     "text": [
      "Epoch [7/10], Loss (MSE): 0.0076\n"
     ]
    },
    {
     "name": "stderr",
     "output_type": "stream",
     "text": [
      "Training Epochs:  80%|████████  | 8/10 [00:35<00:08,  4.32s/it]"
     ]
    },
    {
     "name": "stdout",
     "output_type": "stream",
     "text": [
      "Epoch [8/10], Loss (MSE): 0.0073\n"
     ]
    },
    {
     "name": "stderr",
     "output_type": "stream",
     "text": [
      "Training Epochs:  90%|█████████ | 9/10 [00:39<00:04,  4.29s/it]"
     ]
    },
    {
     "name": "stdout",
     "output_type": "stream",
     "text": [
      "Epoch [9/10], Loss (MSE): 0.0071\n"
     ]
    },
    {
     "name": "stderr",
     "output_type": "stream",
     "text": [
      "Training Epochs: 100%|██████████| 10/10 [00:44<00:00,  4.43s/it]"
     ]
    },
    {
     "name": "stdout",
     "output_type": "stream",
     "text": [
      "Epoch [10/10], Loss (MSE): 0.0068\n"
     ]
    },
    {
     "name": "stderr",
     "output_type": "stream",
     "text": [
      "\n"
     ]
    }
   ],
   "source": [
    "# Inicializacion del modelo\n",
    "simple_model = SimpleAutoencoder(input_size=28*28).to(device)\n",
    "criterion = nn.MSELoss()\n",
    "optimizer = optim.Adam(simple_model.parameters(), lr=1e-3)\n",
    "\n",
    "# Entrenamiento del modelo\n",
    "epochs = 10\n",
    "accum_steps = 4\n",
    "counter = 0\n",
    "\n",
    "for epoch in tqdm.tqdm(range(epochs), desc=\"Training Epochs\"):\n",
    "    accum_loss = 0.0\n",
    "\n",
    "    optimizer.zero_grad()  # Resetear gradientes al inicio de cada epoch\n",
    "\n",
    "    for data, _ in train_loader:\n",
    "        data = data.to(device) # Utilizamos mps para acelerar el entrenamiento\n",
    "        \n",
    "        batch_size = data.size(0)\n",
    "        data = data.view(batch_size, -1)  # El modelo espera un vector aplanado\n",
    "        outputs = simple_model(data)\n",
    "\n",
    "        loss = criterion(outputs, data) / accum_steps # For Gradient Accumulation\n",
    "        loss.backward()\n",
    "        accum_loss += loss.item() * batch_size # loss.item() es un promedio, multiplicamos para obtener la suma\n",
    "        \n",
    "        counter += 1\n",
    "        if counter % accum_steps == 0: # Gradient Accumulation Step\n",
    "            optimizer.step()\n",
    "            optimizer.zero_grad()\n",
    "\n",
    "\n",
    "    # Aplicar los gradientes restantes y resetear para el siguiente epoch\n",
    "    optimizer.step()\n",
    "    optimizer.zero_grad()  \n",
    "    counter = 0\n",
    "\n",
    "    # Calcular la pérdida promedio para el epoch\n",
    "    avg_loss = accum_loss / len(train_loader.dataset)\n",
    "    print(f\"Epoch [{epoch+1}/{epochs}], Loss (MSE): {avg_loss:.4f}\")\n"
   ]
  },
  {
   "cell_type": "markdown",
   "id": "bf1be070",
   "metadata": {},
   "source": [
    "#### Calcular test loss (Simple Autoencoder)"
   ]
  },
  {
   "cell_type": "code",
   "execution_count": 8,
   "id": "95da5a42",
   "metadata": {},
   "outputs": [
    {
     "name": "stdout",
     "output_type": "stream",
     "text": [
      "Test Loss (MSE): 0.0270\n"
     ]
    }
   ],
   "source": [
    "sum_loss = 0.0\n",
    "\n",
    "with torch.no_grad(): # Para no calcular gradientes en el test\n",
    "    for images, labels in test_loader: \n",
    "        batch_size = images.size(0)\n",
    "        images = images.view(batch_size, -1) # El modelo espera un vector aplanado\n",
    "\n",
    "        # Las imagenes deben estar en el mismo dispositivo que el modelo\n",
    "        images = images.to(device) \n",
    "        outputs = simple_model(images)\n",
    "\n",
    "        # Calculamos los loss\n",
    "        loss = criterion(outputs, images)\n",
    "        sum_loss += loss.item() * batch_size # loss.item() es un promedio, multiplicamos para obtener la suma\n",
    "\n",
    "test_loss = sum_loss / len(test_loader.dataset)\n",
    "print(f\"Test Loss (MSE): {test_loss:.4f}\")"
   ]
  },
  {
   "cell_type": "markdown",
   "id": "6e2a704a",
   "metadata": {},
   "source": [
    "#### Visualizar resultados (Simple Autoencoder)"
   ]
  },
  {
   "cell_type": "code",
   "execution_count": 9,
   "id": "249d19ef",
   "metadata": {},
   "outputs": [
    {
     "data": {
      "image/png": "[encoded data removed]",
      "text/plain": [
       "<Figure size 1000x500 with 10 Axes>"
      ]
     },
     "metadata": {},
     "output_type": "display_data"
    }
   ],
   "source": [
    "import random\n",
    "random.seed(1234) # Para reproducibilidad\n",
    "\n",
    "SAMPLE_SIZE = 5 # Número de imágenes a mostrar\n",
    "random_indices = random.sample(range(len(test_data)), SAMPLE_SIZE)\n",
    "selected_images = [test_data[i][0] for i in random_indices]\n",
    "\n",
    "plt.figure(figsize=(10, 5)) # Tamaño de la grafica\n",
    "\n",
    "for i, img in enumerate(selected_images):\n",
    "    plt.subplot(2, 5, i + 1)\n",
    "    plt.imshow(img.squeeze(), cmap='gray') # Mostrar imagen original\n",
    "    plt.title(f\"Image {i + 1}\")\n",
    "    plt.axis('off')\n",
    "\n",
    "    # Computamos la predicción del modelo\n",
    "    data = img.view(1, -1) # Aplanamos la imagen\n",
    "    data = data.to(device)  # La imagen debe estar en el mismo dispositivo que el modelo\n",
    "    pred = simple_model(data)\n",
    "\n",
    "    # Reconstruimos la imagen a partir de la predicción\n",
    "    pred = pred.view(28, 28)  # Recontruimos a la forma original\n",
    "    pred = pred.detach()  # Desacoplamos de la gráfica de computación\n",
    "    pred = pred.cpu()  # Movemos la predicción de vuelta a la CPU para la visualización\n",
    "\n",
    "    plt.subplot(2, 5, i + 6)\n",
    "    plt.title(f\"Reconstructed {i + 1}\")\n",
    "    plt.imshow(pred.squeeze().numpy(), cmap='gray')\n",
    "    plt.axis('off')\n",
    "\n",
    "plt.tight_layout()\n",
    "plt.show()"
   ]
  },
  {
   "cell_type": "markdown",
   "id": "85795017",
   "metadata": {},
   "source": [
    "### Autoencoder con CNNs"
   ]
  },
  {
   "cell_type": "markdown",
   "id": "8fb800ed",
   "metadata": {},
   "source": [
    "El autoencoder con CNNs utiliza capas convolucionales para codificar y decodificar las imágenes. Esto permite que la red aprenda características espaciales de las imágenes, lo cual es muy útil para datos visuales."
   ]
  },
  {
   "cell_type": "markdown",
   "id": "cfec7e71",
   "metadata": {},
   "source": [
    "**Porque usar CNNs?**\n",
    "\n",
    "Las CNNs son ideales para datos visuales porque pueden capturar patrones espaciales locales y son más eficientes en términos de parámetros. Además, las capas convolucionales pueden aprender a reconocer características jerárquicas en las imágenes, lo que mejora la capacidad de compresión y reconstrucción."
   ]
  },
  {
   "cell_type": "markdown",
   "id": "df16849b",
   "metadata": {},
   "source": [
    "#### Arquitectura (Autoencoder con CNNs)"
   ]
  },
  {
   "cell_type": "markdown",
   "id": "2f0f289a",
   "metadata": {},
   "source": [
    "En este caso, las capas del encoder van a ser convolucionales y las del decoder van a ser transpuestas convolucionales."
   ]
  },
  {
   "cell_type": "markdown",
   "id": "074150da",
   "metadata": {},
   "source": [
    "![image.png](https://i0.wp.com/sefiks.com/wp-content/uploads/2018/03/convolutional-autoencoder.png?fit=1818%2C608&ssl=1)"
   ]
  },
  {
   "cell_type": "code",
   "execution_count": 10,
   "id": "e36cc252",
   "metadata": {},
   "outputs": [],
   "source": [
    "class AutoencoderUsingCNN(nn.Module):\n",
    "    \"\"\"\n",
    "    Autoencoder simple utilizando CNN para la compresión de imágenes.\n",
    "    Este modelo consta de un codificador y un decodificador, ambos compuestos por capas\n",
    "    convolucionales y funciones de activación ReLU. El codificador reduce la dimensionalidad\n",
    "    de la entrada a un espacio latente de 16 dimensiones, mientras que el decodificador reconstruye\n",
    "    la entrada original a partir de este espacio latente.\n",
    "    Args:\n",
    "        channels (int): Número de canales de la imagen de entrada (1 para imágenes en escala de grises).\n",
    "        latent_dim (int): Dimensión del espacio latente al que se reduce la entrada.\n",
    "    Attributes:\n",
    "        encoder (nn.Sequential): Secuencia de capas del codificador que reduce la dimensionalidad.\n",
    "        decoder (nn.Sequential): Secuencia de capas del decodificador que reconstruye la entrada\n",
    "                                a partir del espacio latente.\n",
    "    \"\"\"\n",
    "    def __init__(self, channels=1, latent_dim=16):\n",
    "        super().__init__()\n",
    "\n",
    "        # Encoder\n",
    "        self.encoder = nn.Sequential(\n",
    "            nn.Conv2d(channels, 16, kernel_size=3, stride=2, padding=1), # -> (16, 14, 14)\n",
    "            nn.ReLU(),\n",
    "            nn.Conv2d(16, 32, kernel_size=3, stride=2, padding=1), # -> (32, 7, 7)\n",
    "            nn.ReLU(),\n",
    "            nn.Conv2d(32, 64, kernel_size=7),  # -> (64, 1, 1)\n",
    "            nn.ReLU(),\n",
    "            nn.Flatten(), # -> (64, 1, 1) -> (64)\n",
    "            nn.Linear(64, latent_dim) # -> (latent_dim)\n",
    "        )\n",
    "\n",
    "        # Decoder\n",
    "        self.decoder = nn.Sequential(\n",
    "            nn.Linear(latent_dim, 64),  # -> (64)\n",
    "            nn.ReLU(),\n",
    "            nn.Unflatten(1, (64, 1, 1)), # -> (64, 1, 1)\n",
    "            nn.ConvTranspose2d(64, 32, kernel_size=7),  # -> (32, 7, 7)\n",
    "            nn.ReLU(),\n",
    "            nn.ConvTranspose2d(32, 16, kernel_size=3, stride=2, padding=1, output_padding=1),  # -> (16, 14, 14)\n",
    "            nn.ReLU(),\n",
    "            nn.ConvTranspose2d(16, channels, kernel_size=3, stride=2, padding=1, output_padding=1),  # -> (1, 28, 28)\n",
    "            nn.Sigmoid()\n",
    "        )\n",
    "\n",
    "\n",
    "    def forward(self, x):\n",
    "        x = self.encoder(x)\n",
    "        x = self.decoder(x)\n",
    "        return x"
   ]
  },
  {
   "cell_type": "markdown",
   "id": "bd042db7",
   "metadata": {},
   "source": [
    "#### Train model (CNN Autoencoder)"
   ]
  },
  {
   "cell_type": "code",
   "execution_count": 11,
   "id": "193c463d",
   "metadata": {},
   "outputs": [
    {
     "name": "stderr",
     "output_type": "stream",
     "text": [
      "Training Epochs:  10%|█         | 1/10 [00:06<00:55,  6.14s/it]"
     ]
    },
    {
     "name": "stdout",
     "output_type": "stream",
     "text": [
      "Epoch [1/10], Loss (MSE): 0.0199\n"
     ]
    },
    {
     "name": "stderr",
     "output_type": "stream",
     "text": [
      "Training Epochs:  20%|██        | 2/10 [00:11<00:46,  5.81s/it]"
     ]
    },
    {
     "name": "stdout",
     "output_type": "stream",
     "text": [
      "Epoch [2/10], Loss (MSE): 0.0123\n"
     ]
    },
    {
     "name": "stderr",
     "output_type": "stream",
     "text": [
      "Training Epochs:  30%|███       | 3/10 [00:17<00:40,  5.74s/it]"
     ]
    },
    {
     "name": "stdout",
     "output_type": "stream",
     "text": [
      "Epoch [3/10], Loss (MSE): 0.0069\n"
     ]
    },
    {
     "name": "stderr",
     "output_type": "stream",
     "text": [
      "Training Epochs:  40%|████      | 4/10 [00:23<00:34,  5.72s/it]"
     ]
    },
    {
     "name": "stdout",
     "output_type": "stream",
     "text": [
      "Epoch [4/10], Loss (MSE): 0.0053\n"
     ]
    },
    {
     "name": "stderr",
     "output_type": "stream",
     "text": [
      "Training Epochs:  40%|████      | 4/10 [00:24<00:37,  6.20s/it]\n"
     ]
    },
    {
     "ename": "KeyboardInterrupt",
     "evalue": "",
     "output_type": "error",
     "traceback": [
      "\u001b[31m---------------------------------------------------------------------------\u001b[39m",
      "\u001b[31mKeyboardInterrupt\u001b[39m                         Traceback (most recent call last)",
      "\u001b[36mCell\u001b[39m\u001b[36m \u001b[39m\u001b[32mIn[11]\u001b[39m\u001b[32m, line 24\u001b[39m\n\u001b[32m     22\u001b[39m loss = criterion(outputs, data) / accum_steps \u001b[38;5;66;03m# For Gradient Accumulation\u001b[39;00m\n\u001b[32m     23\u001b[39m loss.backward()\n\u001b[32m---> \u001b[39m\u001b[32m24\u001b[39m accum_loss += \u001b[43mloss\u001b[49m\u001b[43m.\u001b[49m\u001b[43mitem\u001b[49m\u001b[43m(\u001b[49m\u001b[43m)\u001b[49m * batch_size \u001b[38;5;66;03m# loss.item() es un promedio, multiplicamos para obtener la suma\u001b[39;00m\n\u001b[32m     26\u001b[39m counter += \u001b[32m1\u001b[39m\n\u001b[32m     27\u001b[39m \u001b[38;5;28;01mif\u001b[39;00m counter % accum_steps == \u001b[32m0\u001b[39m: \u001b[38;5;66;03m# Gradient Accumulation Step\u001b[39;00m\n",
      "\u001b[31mKeyboardInterrupt\u001b[39m: "
     ]
    }
   ],
   "source": [
    "# Inicializacion del modelo\n",
    "cnn_model = AutoencoderUsingCNN(latent_dim=16).to(device)\n",
    "criterion = nn.MSELoss()\n",
    "optimizer = optim.Adam(cnn_model.parameters(), lr=1e-3)\n",
    "\n",
    "# Entrenamiento del modelo\n",
    "epochs = 10\n",
    "accum_steps = 4\n",
    "counter = 0\n",
    "\n",
    "for epoch in tqdm.tqdm(range(epochs), desc=\"Training Epochs\"):\n",
    "    accum_loss = 0.0\n",
    "\n",
    "    optimizer.zero_grad()  # Resetear gradientes al inicio de cada epoch\n",
    "\n",
    "    for data, _ in train_loader:\n",
    "        batch_size = data.size(0)\n",
    "        \n",
    "        data = data.to(device) # Utilizamos mps para acelerar el entrenamiento\n",
    "        outputs = cnn_model(data)\n",
    "\n",
    "        loss = criterion(outputs, data) / accum_steps # For Gradient Accumulation\n",
    "        loss.backward()\n",
    "        accum_loss += loss.item() * batch_size # loss.item() es un promedio, multiplicamos para obtener la suma\n",
    "\n",
    "        counter += 1\n",
    "        if counter % accum_steps == 0: # Gradient Accumulation Step\n",
    "            optimizer.step()\n",
    "            optimizer.zero_grad()\n",
    "\n",
    "    # Aplicar los gradientes restantes y resetear para el siguiente epoch\n",
    "    optimizer.step()  \n",
    "    optimizer.zero_grad()\n",
    "    counter = 0 \n",
    "    \n",
    "    # Calcular la pérdida promedio para el epoch\n",
    "    avg_loss = accum_loss / len(train_loader.dataset)\n",
    "    print(f\"Epoch [{epoch+1}/{epochs}], Loss (MSE): {avg_loss:.4f}\")\n"
   ]
  },
  {
   "cell_type": "markdown",
   "id": "3bc345c0",
   "metadata": {},
   "source": [
    "#### Calcular test loss (CNN Autoencoder)"
   ]
  },
  {
   "cell_type": "code",
   "execution_count": null,
   "id": "e88e0fe0",
   "metadata": {},
   "outputs": [
    {
     "name": "stdout",
     "output_type": "stream",
     "text": [
      "Test Loss (MSE): 0.0121\n"
     ]
    }
   ],
   "source": [
    "sum_loss = 0.0\n",
    "\n",
    "with torch.no_grad(): # Para no calcular gradientes en el test\n",
    "    for images, labels in test_loader: \n",
    "        batch_size = images.size(0)\n",
    "\n",
    "        # Las imagenes deben estar en el mismo dispositivo que el modelo\n",
    "        images = images.to(device) \n",
    "        outputs = cnn_model(images)\n",
    "\n",
    "        # Calculamos los loss\n",
    "        loss = criterion(outputs, images)\n",
    "        sum_loss += loss.item() * batch_size # loss.item() es un promedio, multiplicamos para obtener la suma\n",
    "\n",
    "test_loss = sum_loss / len(test_loader.dataset)\n",
    "print(f\"Test Loss (MSE): {test_loss:.4f}\")"
   ]
  },
  {
   "cell_type": "markdown",
   "id": "25ca7bf8",
   "metadata": {},
   "source": [
    "#### Visulizar resultados (CNN Autoencoder)"
   ]
  },
  {
   "cell_type": "code",
   "execution_count": null,
   "id": "f55c6bbe",
   "metadata": {},
   "outputs": [
    {
     "data": {
      "image/png": "[encoded data removed]",
      "text/plain": [
       "<Figure size 1000x500 with 10 Axes>"
      ]
     },
     "metadata": {},
     "output_type": "display_data"
    }
   ],
   "source": [
    "import random\n",
    "random.seed(1234) # Para reproducibilidad\n",
    "\n",
    "SAMPLE_SIZE = 5 # Número de imágenes a mostrar\n",
    "random_indices = random.sample(range(len(test_data)), SAMPLE_SIZE)\n",
    "selected_images = [test_data[i][0] for i in random_indices]\n",
    "\n",
    "plt.figure(figsize=(10, 5)) # Tamaño de la grafica\n",
    "\n",
    "for i, img in enumerate(selected_images):\n",
    "    plt.subplot(2, 5, i + 1)\n",
    "    plt.imshow(img.squeeze(), cmap='gray') # Mostrar imagen original\n",
    "    plt.title(f\"Image {i + 1}\")\n",
    "    plt.axis('off')\n",
    "\n",
    "    # Computamos la predicción del modelo\n",
    "    img = img.unsqueeze(0)  # Agregamos una dimensión para el batch\n",
    "    data = img.to(device)  # La imagen debe estar en el mismo dispositivo que el modelo\n",
    "    pred = cnn_model(data)\n",
    "\n",
    "    # Reconstruimos la imagen a partir de la predicción\n",
    "    pred = pred.view(28, 28)  # Recontruimos a la forma original\n",
    "    pred = pred.detach()  # Desacoplamos de la gráfica de computación\n",
    "    pred = pred.cpu()  # Movemos la predicción de vuelta a la CPU para la visualización\n",
    "\n",
    "    plt.subplot(2, 5, i + 6)\n",
    "    plt.title(f\"Reconstructed {i + 1}\")\n",
    "    plt.imshow(pred.squeeze().numpy(), cmap='gray')\n",
    "    plt.axis('off')\n",
    "\n",
    "plt.tight_layout()\n",
    "plt.show()"
   ]
  },
  {
   "cell_type": "markdown",
   "id": "0d838ff6",
   "metadata": {},
   "source": [
    "### Autoencoder con Vision Transformer"
   ]
  },
  {
   "cell_type": "markdown",
   "id": "edcbe8a3",
   "metadata": {},
   "source": [
    "El autoencoder con Vision Transformer (ViT) utiliza bloques de Transformer para codificar y decodificar las imágenes. Esto permite que la red aprenda relaciones globales entre diferentes partes de la imagen, lo cual es útil para datos complejos.\n",
    "\n",
    "**Porque usar Vision Transformer?**\n",
    "\n",
    "Los Vision Transformers son adecuados para tareas que requieren una comprensión global de la imagen, ya que pueden capturar relaciones entre diferentes regiones de la imagen. Son especialmente útiles para datasets grandes y complejos, donde las relaciones espaciales son importantes."
   ]
  },
  {
   "cell_type": "markdown",
   "id": "4a5a6055",
   "metadata": {},
   "source": [
    "#### Arquitectura (ViT Autoencoder)"
   ]
  },
  {
   "cell_type": "markdown",
   "id": "438bd04d",
   "metadata": {},
   "source": [
    "La arquitectura se puede simplificar en el siguiente diagrama:"
   ]
  },
  {
   "cell_type": "markdown",
   "id": "9dbb48b7",
   "metadata": {},
   "source": [
    "![Diagram](Flowchart.png)"
   ]
  },
  {
   "cell_type": "markdown",
   "id": "ac8414f1",
   "metadata": {},
   "source": [
    "Donde se tiene que \n",
    "\n",
    "- **Patch Embedding**: Convierte la imagen en parches y los proyecta a un espacio de características.\n",
    "- **Positional Embedding**: Añade información posicional a los parches para que el modelo pueda entender la disposición espacial.\n",
    "- **Transformer Encoder**: Bloques de Transformer que procesan los parches y aprenden relaciones globales.\n",
    "- **Decoder**: Capa lineal que reconstruye la imagen a partir de las características aprendidas.\n"
   ]
  },
  {
   "cell_type": "code",
   "execution_count": null,
   "id": "eb49e98c",
   "metadata": {},
   "outputs": [],
   "source": [
    "# Patch Embedding: convierte imagen (1, 28, 28) en patches (tokens)\n",
    "class PatchEmbedding(nn.Module):\n",
    "    def __init__(self, img_size=28, patch_size=7, in_channels=1, embed_dim=64):\n",
    "        super().__init__()\n",
    "        self.patch_size = patch_size\n",
    "        self.n_patches = (img_size // patch_size) ** 2\n",
    "        self.proj = nn.Conv2d(in_channels, embed_dim, kernel_size=patch_size, stride=patch_size)\n",
    "\n",
    "    def forward(self, x):\n",
    "        # x shape: (B, C, H, W)\n",
    "        x = self.proj(x)  # (B, embed_dim, H/patch, W/patch)\n",
    "        x = x.flatten(2)  # (B, embed_dim, N)\n",
    "        x = x.transpose(1, 2)  # (B, N, embed_dim)\n",
    "        return x\n",
    "\n",
    "# Autoencoder con ViT\n",
    "class ViTAutoencoder(nn.Module):\n",
    "    def __init__(self, img_size=28, patch_size=7, embed_dim=64, num_heads=4, depth=2):\n",
    "        super().__init__()\n",
    "        self.patch_embed = PatchEmbedding(img_size, patch_size, 1, embed_dim)\n",
    "        self.cls_token = nn.Parameter(torch.randn(1, 1, embed_dim))\n",
    "        self.pos_embed = nn.Parameter(torch.randn(1, (img_size // patch_size)**2 + 1, embed_dim))\n",
    "\n",
    "        encoder_layer = nn.TransformerEncoderLayer(d_model=embed_dim, nhead=num_heads, batch_first=True)\n",
    "        self.transformer = nn.TransformerEncoder(encoder_layer, num_layers=depth)\n",
    "\n",
    "        self.decoder = nn.Sequential(\n",
    "            nn.Linear(embed_dim, patch_size * patch_size),\n",
    "        )\n",
    "        self.patch_size = patch_size\n",
    "        self.img_size = img_size\n",
    "\n",
    "    def forward(self, x):\n",
    "        B = x.size(0)\n",
    "        x = self.patch_embed(x)  # (B, N, D)\n",
    "        cls_tokens = self.cls_token.expand(B, -1, -1)\n",
    "        x = torch.cat([cls_tokens, x], dim=1)\n",
    "        x = x + self.pos_embed\n",
    "\n",
    "        x = self.transformer(x)[:, 1:]  # Ignorar cls_token\n",
    "        x = self.decoder(x)  # (B, N, patch_size*patch_size)\n",
    "        x = x.view(B, 1, self.img_size, self.img_size)  # Reconstrucción imagen completa\n",
    "        return x"
   ]
  },
  {
   "cell_type": "markdown",
   "id": "f089c824",
   "metadata": {},
   "source": [
    "#### Train model (ViT Autoencoder)"
   ]
  },
  {
   "cell_type": "code",
   "execution_count": null,
   "id": "059cac41",
   "metadata": {},
   "outputs": [
    {
     "name": "stderr",
     "output_type": "stream",
     "text": [
      "Training Epochs:  10%|█         | 1/10 [00:10<01:36, 10.73s/it]"
     ]
    },
    {
     "name": "stdout",
     "output_type": "stream",
     "text": [
      "Epoch [1/10], Loss (MSE): 0.0166\n"
     ]
    },
    {
     "name": "stderr",
     "output_type": "stream",
     "text": [
      "Training Epochs:  20%|██        | 2/10 [00:20<01:22, 10.32s/it]"
     ]
    },
    {
     "name": "stdout",
     "output_type": "stream",
     "text": [
      "Epoch [2/10], Loss (MSE): 0.0060\n"
     ]
    },
    {
     "name": "stderr",
     "output_type": "stream",
     "text": [
      "Training Epochs:  30%|███       | 3/10 [00:30<01:11, 10.25s/it]"
     ]
    },
    {
     "name": "stdout",
     "output_type": "stream",
     "text": [
      "Epoch [3/10], Loss (MSE): 0.0037\n"
     ]
    },
    {
     "name": "stderr",
     "output_type": "stream",
     "text": [
      "Training Epochs:  40%|████      | 4/10 [00:41<01:01, 10.28s/it]"
     ]
    },
    {
     "name": "stdout",
     "output_type": "stream",
     "text": [
      "Epoch [4/10], Loss (MSE): 0.0028\n"
     ]
    },
    {
     "name": "stderr",
     "output_type": "stream",
     "text": [
      "Training Epochs:  50%|█████     | 5/10 [00:51<00:51, 10.35s/it]"
     ]
    },
    {
     "name": "stdout",
     "output_type": "stream",
     "text": [
      "Epoch [5/10], Loss (MSE): 0.0023\n"
     ]
    },
    {
     "name": "stderr",
     "output_type": "stream",
     "text": [
      "Training Epochs:  60%|██████    | 6/10 [01:01<00:40, 10.19s/it]"
     ]
    },
    {
     "name": "stdout",
     "output_type": "stream",
     "text": [
      "Epoch [6/10], Loss (MSE): 0.0019\n"
     ]
    },
    {
     "name": "stderr",
     "output_type": "stream",
     "text": [
      "Training Epochs:  70%|███████   | 7/10 [01:11<00:30, 10.12s/it]"
     ]
    },
    {
     "name": "stdout",
     "output_type": "stream",
     "text": [
      "Epoch [7/10], Loss (MSE): 0.0017\n"
     ]
    },
    {
     "name": "stderr",
     "output_type": "stream",
     "text": [
      "Training Epochs:  80%|████████  | 8/10 [01:21<00:20, 10.12s/it]"
     ]
    },
    {
     "name": "stdout",
     "output_type": "stream",
     "text": [
      "Epoch [8/10], Loss (MSE): 0.0015\n"
     ]
    },
    {
     "name": "stderr",
     "output_type": "stream",
     "text": [
      "Training Epochs:  90%|█████████ | 9/10 [01:31<00:10, 10.07s/it]"
     ]
    },
    {
     "name": "stdout",
     "output_type": "stream",
     "text": [
      "Epoch [9/10], Loss (MSE): 0.0014\n"
     ]
    },
    {
     "name": "stderr",
     "output_type": "stream",
     "text": [
      "Training Epochs: 100%|██████████| 10/10 [01:41<00:00, 10.14s/it]"
     ]
    },
    {
     "name": "stdout",
     "output_type": "stream",
     "text": [
      "Epoch [10/10], Loss (MSE): 0.0013\n"
     ]
    },
    {
     "name": "stderr",
     "output_type": "stream",
     "text": [
      "\n"
     ]
    }
   ],
   "source": [
    "vit_model = ViTAutoencoder().to(device)\n",
    "criterion = nn.MSELoss()\n",
    "optimizer = torch.optim.Adam(vit_model.parameters(), lr=1e-3)\n",
    "\n",
    "accum_steps = 4\n",
    "counter = 0\n",
    "\n",
    "for epoch in tqdm.tqdm(range(epochs), desc=\"Training Epochs\"):\n",
    "    accum_loss = 0.0\n",
    "\n",
    "    optimizer.zero_grad()  # Resetear gradientes al inicio de cada epoch\n",
    "\n",
    "    for data, _ in train_loader:\n",
    "        batch_size = data.size(0)\n",
    "        \n",
    "        data = data.to(device) # Utilizamos mps para acelerar el entrenamiento\n",
    "        outputs = vit_model(data)\n",
    "\n",
    "        loss = criterion(outputs, data) / accum_steps # For Gradient Accumulation\n",
    "        loss.backward()\n",
    "        accum_loss += loss.item() * batch_size # loss.item() es un promedio, multiplicamos para obtener la suma\n",
    "\n",
    "        counter += 1\n",
    "        if counter % accum_steps == 0: # Gradient Accumulation Step\n",
    "            optimizer.step()\n",
    "            optimizer.zero_grad()\n",
    "\n",
    "    # Aplicar los gradientes restantes y resetear para el siguiente epoch\n",
    "    optimizer.step()  \n",
    "    optimizer.zero_grad()\n",
    "    counter = 0 \n",
    "    \n",
    "    # Calcular la pérdida promedio para el epoch\n",
    "    avg_loss = accum_loss / len(train_loader.dataset)\n",
    "    print(f\"Epoch [{epoch+1}/{epochs}], Loss (MSE): {avg_loss:.4f}\")"
   ]
  },
  {
   "cell_type": "markdown",
   "id": "038d1960",
   "metadata": {},
   "source": [
    "#### Calcular test loss (ViT Autoencoder)"
   ]
  },
  {
   "cell_type": "code",
   "execution_count": null,
   "id": "95d0b061",
   "metadata": {},
   "outputs": [
    {
     "name": "stdout",
     "output_type": "stream",
     "text": [
      "Test Loss (MSE): 0.0049\n"
     ]
    }
   ],
   "source": [
    "sum_loss = 0.0\n",
    "\n",
    "with torch.no_grad(): # Para no calcular gradientes en el test\n",
    "    for images, labels in test_loader: \n",
    "        batch_size = images.size(0)\n",
    "\n",
    "        # Las imagenes deben estar en el mismo dispositivo que el modelo\n",
    "        images = images.to(device) \n",
    "        outputs = vit_model(images)\n",
    "\n",
    "        # Calculamos los loss\n",
    "        loss = criterion(outputs, images)\n",
    "        sum_loss += loss.item() * batch_size # loss.item() es un promedio, multiplicamos para obtener la suma\n",
    "\n",
    "test_loss = sum_loss / len(test_loader.dataset)\n",
    "print(f\"Test Loss (MSE): {test_loss:.4f}\")"
   ]
  },
  {
   "cell_type": "markdown",
   "id": "3aa25727",
   "metadata": {},
   "source": [
    "#### Visualizar resultados (ViT Autoencoder)"
   ]
  },
  {
   "cell_type": "code",
   "execution_count": null,
   "id": "486f23fa",
   "metadata": {},
   "outputs": [
    {
     "data": {
      "image/png": "[encoded data removed]",
      "text/plain": [
       "<Figure size 1000x500 with 10 Axes>"
      ]
     },
     "metadata": {},
     "output_type": "display_data"
    }
   ],
   "source": [
    "import random\n",
    "random.seed(1234) # Para reproducibilidad\n",
    "\n",
    "SAMPLE_SIZE = 5 # Número de imágenes a mostrar\n",
    "random_indices = random.sample(range(len(test_data)), SAMPLE_SIZE)\n",
    "selected_images = [test_data[i][0] for i in random_indices]\n",
    "\n",
    "plt.figure(figsize=(10, 5)) # Tamaño de la grafica\n",
    "\n",
    "for i, img in enumerate(selected_images):\n",
    "    plt.subplot(2, 5, i + 1)\n",
    "    plt.imshow(img.squeeze(), cmap='gray') # Mostrar imagen original\n",
    "    plt.title(f\"Image {i + 1}\")\n",
    "    plt.axis('off')\n",
    "\n",
    "    # Computamos la predicción del modelo\n",
    "    img = img.unsqueeze(0)  # Agregamos una dimensión para el batch\n",
    "    data = img.to(device)  # La imagen debe estar en el mismo dispositivo que el modelo\n",
    "    pred = vit_model(data)\n",
    "\n",
    "    # Reconstruimos la imagen a partir de la predicción\n",
    "    pred = pred.view(28, 28)  # Recontruimos a la forma original\n",
    "    pred = pred.detach()  # Desacoplamos de la gráfica de computación\n",
    "    pred = pred.cpu()  # Movemos la predicción de vuelta a la CPU para la visualización\n",
    "\n",
    "    plt.subplot(2, 5, i + 6)\n",
    "    plt.title(f\"Reconstructed {i + 1}\")\n",
    "    plt.imshow(pred.squeeze().numpy(), cmap='gray')\n",
    "    plt.axis('off')\n",
    "\n",
    "plt.tight_layout()\n",
    "plt.show()"
   ]
  },
  {
   "cell_type": "markdown",
   "id": "22cecad7",
   "metadata": {},
   "source": [
    "## Que diferencia hay entre las arquitecturas de Autoencoders?"
   ]
  },
  {
   "cell_type": "markdown",
   "id": "2d4f8e9c",
   "metadata": {},
   "source": [
    "En general, los vision transformers son más adecuados para tareas que requieren una comprensión global de la imagen, mientras que las CNNs son más eficientes para tareas locales. Los autoencoders simples son útiles para datos tabulares o 1D, pero no escalan bien con imágenes grandes."
   ]
  },
  {
   "cell_type": "markdown",
   "id": "6c26f150",
   "metadata": {},
   "source": [
    "**Tabla Comparativa de arquitecturas de Autoencoders**\n",
    "\n",
    "| Característica                             | Simple (Capas Lineales)                   | Convolucionales (CNN)                     | Vision Transformer (ViT)                           |\n",
    "|-------------------------------------------|-----------------------------------------|-------------------------------------------|----------------------------------------------------|\n",
    "| **Representación espacial**               | No conserva información espacial         | Conserva relaciones locales               | Aprende relaciones globales entre parches         |\n",
    "| **Parámetros**                            | Muchos parámetros, sin compartir pesos  | Menos parámetros, pesos compartidos       | Alto número de parámetros, pero eficiente en escala |\n",
    "| **Localidad**                             | No aprovecha estructuras locales         | Excelente para detectar patrones locales  | Puede capturar tanto relaciones locales como globales |\n",
    "| **Robustez a traslaciones**               | Baja                                     | Alta (gracias a convoluciones y pooling)  | Requiere aprendizaje explícito de relaciones espaciales |\n",
    "| **Desempeño en imágenes simples (MNIST)** | Aceptable, pero subóptimo               | Muy bueno, rápido de entrenar             | Bueno, pero podría ser excesivo para datos simples |\n",
    "| **Desempeño en imágenes complejas**       | Deficiente                               | Bueno, aunque puede perder relaciones globales | Muy bueno, especialmente en datasets grandes       |\n",
    "| **Coste computacional**                   | Bajo                                     | Medio                                      | Alto (requiere mayor memoria y cómputo)           |\n",
    "| **Dificultad de implementación**          | Fácil                                | Moderada                                  | Alta, requiere mayor conocimiento y estructura     |\n",
    "| **Aplicación en autoencoders**            | Básico, útil para tabulares o 1D         | Muy efectivo para compresión y reconstrucción de imágenes | Ideal para modelar dependencias espaciales complejas |\n",
    "| **Ventaja principal**                     | Simplicidad                              | Buena compresión espacial con bajo coste  | Aprendizaje de relaciones globales y flexibilidad |\n",
    "| **Desventaja principal**                  | No escala bien con imágenes grandes      | Limitado a contexto local                 | Requiere más datos y cómputo                      |\n"
   ]
  }
 ],
 "metadata": {
  "kernelspec": {
   "display_name": ".venv",
   "language": "python",
   "name": "python3"
  },
  "language_info": {
   "codemirror_mode": {
    "name": "ipython",
    "version": 3
   },
   "file_extension": ".py",
   "mimetype": "text/x-python",
   "name": "python",
   "nbconvert_exporter": "python",
   "pygments_lexer": "ipython3",
   "version": "3.13.0"
  }
 },
 "nbformat": 4,
 "nbformat_minor": 5
}
