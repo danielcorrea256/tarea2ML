{
 "cells": [
  {
   "cell_type": "code",
   "execution_count": 1,
   "id": "d4561717",
   "metadata": {},
   "outputs": [],
   "source": [
    "import pandas as pd\n",
    "import numpy as np\n",
    "from sklearn.decomposition import PCA\n",
    "import matplotlib.pyplot as plt\n",
    "import seaborn as sns\n",
    "from sklearn.metrics import silhouette_score, davies_bouldin_score, calinski_harabasz_score\n",
    "from sklearn.model_selection import KFold\n",
    "from sklearn.cluster import KMeans, DBSCAN\n",
    "from sklearn.cluster import MiniBatchKMeans"
   ]
  },
  {
   "cell_type": "markdown",
   "id": "1a847ecb",
   "metadata": {},
   "source": [
    "# Tarea 2"
   ]
  },
  {
   "cell_type": "markdown",
   "id": "bfcdc1d6",
   "metadata": {},
   "source": [
    "Escoger un dataset tabular, y usar las técnicas aprendidas de clustering (k-means y DB-Scan), investigar y hacer una implementación desde cero de BFR, y comparar el resultado de los tres. ¿Qué métrica usaría?"
   ]
  },
  {
   "cell_type": "markdown",
   "id": "e7ddd4f3",
   "metadata": {},
   "source": [
    "## Datos que se usan en el notebook"
   ]
  },
  {
   "cell_type": "markdown",
   "id": "e771a7f7",
   "metadata": {},
   "source": [
    "El dataset Mallows es un dataset que contiene información sobre clientes de un centro comercial. Cada fila representa un cliente y las columnas contienen características como el ingreso, la edad, el género, etc. Este dataset es útil para realizar análisis de segmentación de clientes y clustering."
   ]
  },
  {
   "cell_type": "code",
   "execution_count": null,
   "id": "4baebe7b",
   "metadata": {},
   "outputs": [
    {
     "data": {
      "text/html": [
       "<div>\n",
       "<style scoped>\n",
       "    .dataframe tbody tr th:only-of-type {\n",
       "        vertical-align: middle;\n",
       "    }\n",
       "\n",
       "    .dataframe tbody tr th {\n",
       "        vertical-align: top;\n",
       "    }\n",
       "\n",
       "    .dataframe thead th {\n",
       "        text-align: right;\n",
       "    }\n",
       "</style>\n",
       "<table border=\"1\" class=\"dataframe\">\n",
       "  <thead>\n",
       "    <tr style=\"text-align: right;\">\n",
       "      <th></th>\n",
       "      <th>CustomerID</th>\n",
       "      <th>Gender</th>\n",
       "      <th>Age</th>\n",
       "      <th>Annual Income (k$)</th>\n",
       "      <th>Spending Score (1-100)</th>\n",
       "    </tr>\n",
       "  </thead>\n",
       "  <tbody>\n",
       "    <tr>\n",
       "      <th>0</th>\n",
       "      <td>1</td>\n",
       "      <td>Male</td>\n",
       "      <td>19</td>\n",
       "      <td>15</td>\n",
       "      <td>39</td>\n",
       "    </tr>\n",
       "    <tr>\n",
       "      <th>1</th>\n",
       "      <td>2</td>\n",
       "      <td>Male</td>\n",
       "      <td>21</td>\n",
       "      <td>15</td>\n",
       "      <td>81</td>\n",
       "    </tr>\n",
       "    <tr>\n",
       "      <th>2</th>\n",
       "      <td>3</td>\n",
       "      <td>Female</td>\n",
       "      <td>20</td>\n",
       "      <td>16</td>\n",
       "      <td>6</td>\n",
       "    </tr>\n",
       "    <tr>\n",
       "      <th>3</th>\n",
       "      <td>4</td>\n",
       "      <td>Female</td>\n",
       "      <td>23</td>\n",
       "      <td>16</td>\n",
       "      <td>77</td>\n",
       "    </tr>\n",
       "    <tr>\n",
       "      <th>4</th>\n",
       "      <td>5</td>\n",
       "      <td>Female</td>\n",
       "      <td>31</td>\n",
       "      <td>17</td>\n",
       "      <td>40</td>\n",
       "    </tr>\n",
       "  </tbody>\n",
       "</table>\n",
       "</div>"
      ],
      "text/plain": [
       "   CustomerID  Gender  Age  Annual Income (k$)  Spending Score (1-100)\n",
       "0           1    Male   19                  15                      39\n",
       "1           2    Male   21                  15                      81\n",
       "2           3  Female   20                  16                       6\n",
       "3           4  Female   23                  16                      77\n",
       "4           5  Female   31                  17                      40"
      ]
     },
     "execution_count": 2,
     "metadata": {},
     "output_type": "execute_result"
    }
   ],
   "source": [
    "df = pd.read_csv(\"Mall_Customers.csv\")\n",
    "df.head()"
   ]
  },
  {
   "cell_type": "markdown",
   "id": "b894ec5a",
   "metadata": {},
   "source": [
    "El tamaño del dataset"
   ]
  },
  {
   "cell_type": "code",
   "execution_count": 3,
   "id": "053ef6aa",
   "metadata": {},
   "outputs": [
    {
     "data": {
      "text/plain": [
       "(200, 5)"
      ]
     },
     "execution_count": 3,
     "metadata": {},
     "output_type": "execute_result"
    }
   ],
   "source": [
    "df.shape"
   ]
  },
  {
   "cell_type": "markdown",
   "id": "0d56f78a",
   "metadata": {},
   "source": [
    "## Limpieza de datos"
   ]
  },
  {
   "cell_type": "markdown",
   "id": "7902653f",
   "metadata": {},
   "source": [
    "Miremos si hay valores nulos"
   ]
  },
  {
   "cell_type": "code",
   "execution_count": 4,
   "id": "34c78100",
   "metadata": {},
   "outputs": [
    {
     "data": {
      "text/plain": [
       "CustomerID                0\n",
       "Gender                    0\n",
       "Age                       0\n",
       "Annual Income (k$)        0\n",
       "Spending Score (1-100)    0\n",
       "dtype: int64"
      ]
     },
     "execution_count": 4,
     "metadata": {},
     "output_type": "execute_result"
    }
   ],
   "source": [
    "df.isnull().sum()"
   ]
  },
  {
   "cell_type": "markdown",
   "id": "44f55001",
   "metadata": {},
   "source": [
    "El dataset no tiene valores nulos, vamos a ver si los tipos de datos son adecuados"
   ]
  },
  {
   "cell_type": "code",
   "execution_count": 5,
   "id": "03c079fc",
   "metadata": {},
   "outputs": [
    {
     "data": {
      "text/plain": [
       "CustomerID                 int64\n",
       "Gender                    object\n",
       "Age                        int64\n",
       "Annual Income (k$)         int64\n",
       "Spending Score (1-100)     int64\n",
       "dtype: object"
      ]
     },
     "execution_count": 5,
     "metadata": {},
     "output_type": "execute_result"
    }
   ],
   "source": [
    "df.dtypes"
   ]
  },
  {
   "cell_type": "code",
   "execution_count": 6,
   "id": "57a44e13",
   "metadata": {},
   "outputs": [
    {
     "data": {
      "text/plain": [
       "array(['Male', 'Female'], dtype=object)"
      ]
     },
     "execution_count": 6,
     "metadata": {},
     "output_type": "execute_result"
    }
   ],
   "source": [
    "df[\"Gender\"].unique()"
   ]
  },
  {
   "cell_type": "markdown",
   "id": "117e7b80",
   "metadata": {},
   "source": [
    "Vemos que los tipos de datos son adecuados, pero la columna `Gender` tiene 2 valores unicos, `Male` y `Female`. Vamos a aplicar un mapping para convertirlos a 0 y 1, respectivamente"
   ]
  },
  {
   "cell_type": "code",
   "execution_count": 7,
   "id": "2ff45080",
   "metadata": {},
   "outputs": [
    {
     "data": {
      "text/html": [
       "<div>\n",
       "<style scoped>\n",
       "    .dataframe tbody tr th:only-of-type {\n",
       "        vertical-align: middle;\n",
       "    }\n",
       "\n",
       "    .dataframe tbody tr th {\n",
       "        vertical-align: top;\n",
       "    }\n",
       "\n",
       "    .dataframe thead th {\n",
       "        text-align: right;\n",
       "    }\n",
       "</style>\n",
       "<table border=\"1\" class=\"dataframe\">\n",
       "  <thead>\n",
       "    <tr style=\"text-align: right;\">\n",
       "      <th></th>\n",
       "      <th>CustomerID</th>\n",
       "      <th>Gender</th>\n",
       "      <th>Age</th>\n",
       "      <th>Annual Income (k$)</th>\n",
       "      <th>Spending Score (1-100)</th>\n",
       "    </tr>\n",
       "  </thead>\n",
       "  <tbody>\n",
       "    <tr>\n",
       "      <th>0</th>\n",
       "      <td>1</td>\n",
       "      <td>0</td>\n",
       "      <td>19</td>\n",
       "      <td>15</td>\n",
       "      <td>39</td>\n",
       "    </tr>\n",
       "    <tr>\n",
       "      <th>1</th>\n",
       "      <td>2</td>\n",
       "      <td>0</td>\n",
       "      <td>21</td>\n",
       "      <td>15</td>\n",
       "      <td>81</td>\n",
       "    </tr>\n",
       "    <tr>\n",
       "      <th>2</th>\n",
       "      <td>3</td>\n",
       "      <td>1</td>\n",
       "      <td>20</td>\n",
       "      <td>16</td>\n",
       "      <td>6</td>\n",
       "    </tr>\n",
       "    <tr>\n",
       "      <th>3</th>\n",
       "      <td>4</td>\n",
       "      <td>1</td>\n",
       "      <td>23</td>\n",
       "      <td>16</td>\n",
       "      <td>77</td>\n",
       "    </tr>\n",
       "    <tr>\n",
       "      <th>4</th>\n",
       "      <td>5</td>\n",
       "      <td>1</td>\n",
       "      <td>31</td>\n",
       "      <td>17</td>\n",
       "      <td>40</td>\n",
       "    </tr>\n",
       "  </tbody>\n",
       "</table>\n",
       "</div>"
      ],
      "text/plain": [
       "   CustomerID  Gender  Age  Annual Income (k$)  Spending Score (1-100)\n",
       "0           1       0   19                  15                      39\n",
       "1           2       0   21                  15                      81\n",
       "2           3       1   20                  16                       6\n",
       "3           4       1   23                  16                      77\n",
       "4           5       1   31                  17                      40"
      ]
     },
     "execution_count": 7,
     "metadata": {},
     "output_type": "execute_result"
    }
   ],
   "source": [
    "df[\"Gender\"] = df[\"Gender\"].map({\"Male\": 0, \"Female\": 1})\n",
    "df.head()"
   ]
  },
  {
   "cell_type": "markdown",
   "id": "0a28477e",
   "metadata": {},
   "source": [
    "Ahora ya todos los valores son numericos, pero no nos interesa mucho la columna customerID, pero antes de eliminarla, verifiquemos que no hayan duplicados"
   ]
  },
  {
   "cell_type": "code",
   "execution_count": 8,
   "id": "21220ccd",
   "metadata": {},
   "outputs": [
    {
     "data": {
      "text/plain": [
       "np.int64(0)"
      ]
     },
     "execution_count": 8,
     "metadata": {},
     "output_type": "execute_result"
    }
   ],
   "source": [
    "df[\"CustomerID\"].duplicated().sum()"
   ]
  },
  {
   "cell_type": "markdown",
   "id": "6a78ecca",
   "metadata": {},
   "source": [
    "Como no hay duplicados, podemos eliminar la columna customerID"
   ]
  },
  {
   "cell_type": "code",
   "execution_count": 9,
   "id": "8f009e76",
   "metadata": {},
   "outputs": [],
   "source": [
    "df = df.drop(columns=[\"CustomerID\"])"
   ]
  },
  {
   "cell_type": "markdown",
   "id": "a45960f1",
   "metadata": {},
   "source": [
    "Ahora vamos a estandarizar los datos, para que tengan media 0 y desviacion estandar 1. Esto es importante para el algoritmo KMeans, ya que este algoritmo se basa en distancias euclidianas."
   ]
  },
  {
   "cell_type": "code",
   "execution_count": 10,
   "id": "5fd063dd",
   "metadata": {},
   "outputs": [
    {
     "data": {
      "text/html": [
       "<div>\n",
       "<style scoped>\n",
       "    .dataframe tbody tr th:only-of-type {\n",
       "        vertical-align: middle;\n",
       "    }\n",
       "\n",
       "    .dataframe tbody tr th {\n",
       "        vertical-align: top;\n",
       "    }\n",
       "\n",
       "    .dataframe thead th {\n",
       "        text-align: right;\n",
       "    }\n",
       "</style>\n",
       "<table border=\"1\" class=\"dataframe\">\n",
       "  <thead>\n",
       "    <tr style=\"text-align: right;\">\n",
       "      <th></th>\n",
       "      <th>Gender</th>\n",
       "      <th>Age</th>\n",
       "      <th>Annual Income (k$)</th>\n",
       "      <th>Spending Score (1-100)</th>\n",
       "    </tr>\n",
       "  </thead>\n",
       "  <tbody>\n",
       "    <tr>\n",
       "      <th>0</th>\n",
       "      <td>-1.125328</td>\n",
       "      <td>-1.421003</td>\n",
       "      <td>-1.734646</td>\n",
       "      <td>-0.433713</td>\n",
       "    </tr>\n",
       "    <tr>\n",
       "      <th>1</th>\n",
       "      <td>-1.125328</td>\n",
       "      <td>-1.277829</td>\n",
       "      <td>-1.734646</td>\n",
       "      <td>1.192711</td>\n",
       "    </tr>\n",
       "    <tr>\n",
       "      <th>2</th>\n",
       "      <td>0.884186</td>\n",
       "      <td>-1.349416</td>\n",
       "      <td>-1.696572</td>\n",
       "      <td>-1.711618</td>\n",
       "    </tr>\n",
       "    <tr>\n",
       "      <th>3</th>\n",
       "      <td>0.884186</td>\n",
       "      <td>-1.134655</td>\n",
       "      <td>-1.696572</td>\n",
       "      <td>1.037814</td>\n",
       "    </tr>\n",
       "    <tr>\n",
       "      <th>4</th>\n",
       "      <td>0.884186</td>\n",
       "      <td>-0.561958</td>\n",
       "      <td>-1.658498</td>\n",
       "      <td>-0.394989</td>\n",
       "    </tr>\n",
       "  </tbody>\n",
       "</table>\n",
       "</div>"
      ],
      "text/plain": [
       "     Gender       Age  Annual Income (k$)  Spending Score (1-100)\n",
       "0 -1.125328 -1.421003           -1.734646               -0.433713\n",
       "1 -1.125328 -1.277829           -1.734646                1.192711\n",
       "2  0.884186 -1.349416           -1.696572               -1.711618\n",
       "3  0.884186 -1.134655           -1.696572                1.037814\n",
       "4  0.884186 -0.561958           -1.658498               -0.394989"
      ]
     },
     "execution_count": 10,
     "metadata": {},
     "output_type": "execute_result"
    }
   ],
   "source": [
    "for col in df.columns:\n",
    "    df[col] = (df[col] - df[col].mean()) / df[col].std()\n",
    "\n",
    "df.head()"
   ]
  },
  {
   "cell_type": "markdown",
   "id": "b194f101",
   "metadata": {},
   "source": [
    "Ahora que tenemos el dataset listo para aplicar algoritmos de clustering."
   ]
  },
  {
   "cell_type": "markdown",
   "id": "a2fae718",
   "metadata": {},
   "source": [
    "## Clustering"
   ]
  },
  {
   "cell_type": "markdown",
   "id": "9019dfc8",
   "metadata": {},
   "source": [
    "### Algoritmos"
   ]
  },
  {
   "cell_type": "markdown",
   "id": "ae4b3ff3",
   "metadata": {},
   "source": [
    "#### BFR"
   ]
  },
  {
   "cell_type": "markdown",
   "id": "cc1ddd58",
   "metadata": {},
   "source": [
    "El algoritmo BFR hace las siguientes suposiciones:\n",
    "- Los clusters estan normalmente distribuidos en cada dimension\n",
    "- Los ejes estan fijos, es decir, elipses en un angulo no estan bien\n",
    "\n",
    "![image](BFR.png)\n",
    "\n",
    "[Referencia](https://www.youtube.com/watch?v=JrOJspZ1CUw)"
   ]
  },
  {
   "cell_type": "markdown",
   "id": "71fff0d4",
   "metadata": {},
   "source": [
    "#### BFR"
   ]
  },
  {
   "cell_type": "code",
   "execution_count": 11,
   "id": "6e8b8c98",
   "metadata": {},
   "outputs": [],
   "source": [
    "\n",
    "class CFEntry:\n",
    "    \"\"\"\n",
    "    Representa una entrada de Cluster Feature (CF) para resumir un cluster.\n",
    "    \"\"\"\n",
    "    def __init__(self, N=0, LS=None, SS=None):\n",
    "        self.N = N # Número de puntos en el cluster\n",
    "        self.LS = LS # Suma lineal de los puntos (vector)\n",
    "        self.SS = SS # Suma de los cuadrados de los puntos (vector)\n",
    "\n",
    "    def add_point(self, point):\n",
    "        \"\"\"Añade un punto a la CF.\"\"\"\n",
    "        if self.N == 0:\n",
    "            self.LS = np.copy(point)\n",
    "            self.SS = np.copy(point ** 2)\n",
    "        else:\n",
    "            self.LS += point\n",
    "            self.SS += point ** 2\n",
    "        self.N += 1\n",
    "\n",
    "    def merge_cf(self, other_cf):\n",
    "        \"\"\"Fusiona otra CF con esta CF.\"\"\"\n",
    "        if self.N == 0:\n",
    "            self.N = other_cf.N\n",
    "            self.LS = np.copy(other_cf.LS)\n",
    "            self.SS = np.copy(other_cf.SS)\n",
    "        else:\n",
    "            self.N += other_cf.N\n",
    "            self.LS += other_cf.LS\n",
    "            self.SS += other_cf.SS\n",
    "\n",
    "    def get_centroid(self):\n",
    "        \"\"\"Calcula el centroide del cluster.\"\"\"\n",
    "        if self.N == 0:\n",
    "            return None\n",
    "        return self.LS / self.N\n",
    "\n",
    "    def get_radius(self):\n",
    "        \"\"\"Calcula el radio/desviación estándar (simplificado).\"\"\"\n",
    "        if self.N <= 1:\n",
    "            return 0.0\n",
    "        # sqrt( (sum(x^2)/N) - (sum(x)/N)^2 ) -> Desviación estándar\n",
    "        variance = (self.SS / self.N) - (self.LS / self.N)**2\n",
    "        return np.sqrt(np.maximum(0, np.sum(variance)))\n",
    "\n",
    "class BFRClustering:\n",
    "    \"\"\"\n",
    "    Implementación conceptual del algoritmo de clustering BFR envuelto en una clase.\n",
    "    Diseñado para procesar datos en chunks, adecuado para grandes datasets o streams.\n",
    "    \"\"\"\n",
    "    def __init__(self, initial_n_clusters, distance_threshold,\n",
    "                 cs_threshold_factor=2.0, rs_max_size=1000, chunk_size=1000, random_state=None):\n",
    "        \"\"\"\n",
    "        Inicializa el algoritmo BFR.\n",
    "\n",
    "        Args:\n",
    "            initial_n_clusters (int): Número de clusters para la fase de inicialización.\n",
    "            distance_threshold (float): Umbral de distancia para absorber puntos en el DS.\n",
    "            cs_threshold_factor (float): Factor para determinar si una CF del CS es candidata a moverse al DS.\n",
    "            rs_max_size (int): Tamaño máximo del Retained Set antes de re-clustering.\n",
    "            chunk_size (int): Tamaño de los pedazos de datos a procesar en cada iteración.\n",
    "            random_state (int, optional): Semilla para la aleatoriedad. Defaults to None.\n",
    "        \"\"\"\n",
    "        self.initial_n_clusters = initial_n_clusters\n",
    "        self.distance_threshold = distance_threshold\n",
    "        self.cs_threshold_factor = cs_threshold_factor\n",
    "        self.rs_max_size = rs_max_size\n",
    "        self.chunk_size = chunk_size\n",
    "        self.random_state = random_state\n",
    "\n",
    "        self.discard_set = []  # Lista de CFEntry para clusters bien establecidos\n",
    "        self.compression_set = [] # Lista de CFEntry para clusters temporales\n",
    "        self.retained_set = [] # Lista de puntos individuales (outliers o no agrupados)\n",
    "        self.labels_ = None # Atributo para almacenar las etiquetas de cluster finales\n",
    "        self.n_features = None # Número de características de los datos\n",
    "\n",
    "    def _process_chunk(self, chunk):\n",
    "        \"\"\"\n",
    "        Procesa un pedazo de datos, intentando asignar puntos a DS, CS o RS.\n",
    "        \"\"\"\n",
    "        if self.n_features is None and chunk.shape[0] > 0:\n",
    "            self.n_features = chunk.shape[1]\n",
    "\n",
    "        for point in chunk:\n",
    "            assigned = False\n",
    "\n",
    "            # Intento de asignación al Discard Set (DS)\n",
    "            best_ds_cf = None\n",
    "            min_ds_dist = float('inf')\n",
    "            for cf in self.discard_set:\n",
    "                centroid = cf.get_centroid()\n",
    "                if centroid is not None:\n",
    "                    dist = np.linalg.norm(point - centroid)\n",
    "                    if dist < min_ds_dist:\n",
    "                        min_ds_dist = dist\n",
    "                        best_ds_cf = cf\n",
    "\n",
    "            if best_ds_cf and best_ds_cf.get_radius() > 0 and min_ds_dist <= self.distance_threshold * best_ds_cf.get_radius():\n",
    "                best_ds_cf.add_point(point)\n",
    "                assigned = True\n",
    "            elif best_ds_cf and best_ds_cf.get_radius() == 0 and min_ds_dist <= self.distance_threshold: # Caso de radio 0\n",
    "                 best_ds_cf.add_point(point)\n",
    "                 assigned = True\n",
    "            else:\n",
    "                # Intento de asignación al Compression Set (CS)\n",
    "                best_cs_cf = None\n",
    "                min_cs_dist = float('inf')\n",
    "                for cf in self.compression_set:\n",
    "                    centroid = cf.get_centroid()\n",
    "                    if centroid is not None:\n",
    "                        dist = np.linalg.norm(point - centroid)\n",
    "                        if dist < min_cs_dist:\n",
    "                            min_cs_dist = dist\n",
    "                            best_cs_cf = cf\n",
    "\n",
    "                if best_cs_cf and best_cs_cf.get_radius() > 0 and min_cs_dist <= self.distance_threshold * best_cs_cf.get_radius():\n",
    "                    best_cs_cf.add_point(point)\n",
    "                    assigned = True\n",
    "                elif best_cs_cf and best_cs_cf.get_radius() == 0 and min_cs_dist <= self.distance_threshold: # Caso de radio 0\n",
    "                     best_cs_cf.add_point(point)\n",
    "                     assigned = True\n",
    "                else:\n",
    "                    # Añadir al Retained Set (RS)\n",
    "                    self.retained_set.append(point)\n",
    "                    assigned = True\n",
    "\n",
    "            # Verificar y procesar el RS si excede el tamaño máximo\n",
    "            if len(self.retained_set) > self.rs_max_size:\n",
    "                self._recluster_cs_and_rs()\n",
    "\n",
    "    def _recluster_cs_and_rs(self):\n",
    "        \"\"\"\n",
    "        Realiza la fase intermedia de re-clustering y fusión para CS y RS.\n",
    "        \"\"\"\n",
    "        # Paso 1: Intentar fusionar CFs de CS entre sí y luego con DS\n",
    "        new_compression_set = []\n",
    "        for cf_cs in self.compression_set:\n",
    "            merged_to_ds = False\n",
    "            for cf_ds in self.discard_set:\n",
    "                if cf_ds.get_centroid() is not None and cf_cs.get_centroid() is not None:\n",
    "                    # Umbral de fusión basado en la proximidad y el radio del cluster DS\n",
    "                    if np.linalg.norm(cf_ds.get_centroid() - cf_cs.get_centroid()) < self.distance_threshold * cf_ds.get_radius() * self.cs_threshold_factor:\n",
    "                        cf_ds.merge_cf(cf_cs)\n",
    "                        merged_to_ds = True\n",
    "                        break\n",
    "            if not merged_to_ds:\n",
    "                new_compression_set.append(cf_cs)\n",
    "        self.compression_set = new_compression_set\n",
    "\n",
    "        # Paso 2: Procesar el Retained Set (RS)\n",
    "        if len(self.retained_set) > 0 and self.n_features is not None:\n",
    "            rs_points_array = np.array(self.retained_set)\n",
    "            if rs_points_array.shape[0] > 0 and rs_points_array.ndim > 1:\n",
    "                # Determinar un número de clusters razonable para RS\n",
    "                n_clusters_rs = max(1, min(self.initial_n_clusters, rs_points_array.shape[0] // 10))\n",
    "                if n_clusters_rs > 0:\n",
    "                    rs_kmeans = MiniBatchKMeans(n_clusters=n_clusters_rs, random_state=self.random_state, n_init='auto')\n",
    "                    rs_labels = rs_kmeans.fit_predict(rs_points_array)\n",
    "\n",
    "                    for i in range(n_clusters_rs):\n",
    "                        rs_cluster_points = rs_points_array[rs_labels == i]\n",
    "                        if rs_cluster_points.shape[0] > 0:\n",
    "                            new_rs_cf = CFEntry(N=0, LS=np.zeros(self.n_features), SS=np.zeros(self.n_features))\n",
    "                            for p in rs_cluster_points:\n",
    "                                new_rs_cf.add_point(p)\n",
    "\n",
    "                            merged_to_ds_or_cs = False\n",
    "                            # Intentar fusionar con DS\n",
    "                            for cf_ds in self.discard_set:\n",
    "                                if cf_ds.get_centroid() is not None and new_rs_cf.get_centroid() is not None:\n",
    "                                    if np.linalg.norm(cf_ds.get_centroid() - new_rs_cf.get_centroid()) < self.distance_threshold * cf_ds.get_radius() * self.cs_threshold_factor:\n",
    "                                        cf_ds.merge_cf(new_rs_cf)\n",
    "                                        merged_to_ds_or_cs = True\n",
    "                                        break\n",
    "                            if not merged_to_ds_or_cs:\n",
    "                                # Intentar fusionar con CS\n",
    "                                for cf_cs in self.compression_set:\n",
    "                                    if cf_cs.get_centroid() is not None and new_rs_cf.get_centroid() is not None:\n",
    "                                        if np.linalg.norm(cf_cs.get_centroid() - new_rs_cf.get_centroid()) < self.distance_threshold * cf_cs.get_radius() * self.cs_threshold_factor:\n",
    "                                            cf_cs.merge_cf(new_rs_cf)\n",
    "                                            merged_to_ds_or_cs = True\n",
    "                                            break\n",
    "                            if not merged_to_ds_or_cs:\n",
    "                                self.compression_set.append(new_rs_cf)\n",
    "            self.retained_set = [] # Vaciar RS después del procesamiento\n",
    "\n",
    "    def fit(self, X):\n",
    "        \"\"\"\n",
    "        Ajusta el modelo BFR a los datos de entrada.\n",
    "        Procesa los datos en chunks si X es un array grande.\n",
    "\n",
    "        Args:\n",
    "            X (np.array): Los datos de entrada, de forma (n_samples, n_features).\n",
    "                          Se asume que es el dataset completo para esta versión,\n",
    "                          pero el procesamiento interno es por chunks.\n",
    "        \"\"\"\n",
    "        n_samples = X.shape[0]\n",
    "        self.n_features = X.shape[1]\n",
    "\n",
    "        # Fase de inicialización\n",
    "        # Tomar el primer chunk para inicializar el DS\n",
    "        initial_chunk = X[:self.chunk_size]\n",
    "        if initial_chunk.shape[0] < self.initial_n_clusters:\n",
    "            effective_initial_clusters = max(1, initial_chunk.shape[0])\n",
    "        else:\n",
    "            effective_initial_clusters = self.initial_n_clusters\n",
    "\n",
    "        if initial_chunk.shape[0] > 0:\n",
    "            initial_kmeans = MiniBatchKMeans(n_clusters=effective_initial_clusters, random_state=self.random_state, n_init='auto')\n",
    "            initial_labels = initial_kmeans.fit_predict(initial_chunk)\n",
    "\n",
    "            for i in range(effective_initial_clusters):\n",
    "                cluster_points = initial_chunk[initial_labels == i]\n",
    "                if cluster_points.shape[0] > 0:\n",
    "                    new_cf = CFEntry(N=0, LS=np.zeros(self.n_features), SS=np.zeros(self.n_features))\n",
    "                    for point in cluster_points:\n",
    "                        new_cf.add_point(point)\n",
    "                    self.discard_set.append(new_cf)\n",
    "        else:\n",
    "            print(\"Advertencia: El primer chunk está vacío. No se pueden inicializar clusters.\")\n",
    "            self.labels_ = np.array([])\n",
    "            return self\n",
    "\n",
    "        # Procesar chunks subsiguientes\n",
    "        for i in range(self.chunk_size, n_samples, self.chunk_size):\n",
    "            chunk = X[i : i + self.chunk_size]\n",
    "            self._process_chunk(chunk)\n",
    "\n",
    "        # Fase Final de Consolidación\n",
    "        # Consolidar los clusters del Compression Set (CS) con el Discard Set (DS)\n",
    "        for cf_cs in self.compression_set:\n",
    "            merged = False\n",
    "            best_merge_ds_cf = None\n",
    "            min_merge_dist = float('inf')\n",
    "\n",
    "            for cf_ds in self.discard_set:\n",
    "                if cf_ds.get_centroid() is not None and cf_cs.get_centroid() is not None:\n",
    "                    dist = np.linalg.norm(cf_ds.get_centroid() - cf_cs.get_centroid())\n",
    "                    # Un umbral de fusión más flexible para el final\n",
    "                    if dist < min_merge_dist and dist < self.distance_threshold * cf_ds.get_radius() * self.cs_threshold_factor * 2:\n",
    "                        min_merge_dist = dist\n",
    "                        best_merge_ds_cf = cf_ds\n",
    "\n",
    "            if best_merge_ds_cf:\n",
    "                best_merge_ds_cf.merge_cf(cf_cs)\n",
    "                merged = True\n",
    "            if not merged:\n",
    "                self.discard_set.append(cf_cs)\n",
    "\n",
    "        # Opcional: Procesar los puntos restantes en el Retained Set\n",
    "        if len(self.retained_set) > 0 and self.n_features is not None:\n",
    "            rs_points_array = np.array(self.retained_set)\n",
    "            if rs_points_array.shape[0] > 0 and rs_points_array.ndim > 1:\n",
    "                final_rs_clusters_count = max(1, min(len(self.discard_set), rs_points_array.shape[0] // 50))\n",
    "                if final_rs_clusters_count > 0:\n",
    "                    rs_kmeans_final = MiniBatchKMeans(n_clusters=final_rs_clusters_count, random_state=self.random_state, n_init='auto')\n",
    "                    rs_labels_final = rs_kmeans_final.fit_predict(rs_points_array)\n",
    "\n",
    "                    for i in range(final_rs_clusters_count):\n",
    "                        rs_cluster_points = rs_points_array[rs_labels_final == i]\n",
    "                        if rs_cluster_points.shape[0] > 0:\n",
    "                            new_rs_cf_final = CFEntry(N=0, LS=np.zeros(self.n_features), SS=np.zeros(self.n_features))\n",
    "                            for p in rs_cluster_points:\n",
    "                                new_rs_cf_final.add_point(p)\n",
    "                            # Intentar fusionar con DS, si no, añadir como nuevo cluster\n",
    "                            merged_to_ds = False\n",
    "                            for cf_ds in self.discard_set:\n",
    "                                if cf_ds.get_centroid() is not None and new_rs_cf_final.get_centroid() is not None:\n",
    "                                    if np.linalg.norm(cf_ds.get_centroid() - new_rs_cf_final.get_centroid()) < self.distance_threshold * cf_ds.get_radius() * self.cs_threshold_factor * 3:\n",
    "                                        cf_ds.merge_cf(new_rs_cf_final)\n",
    "                                        merged_to_ds = True\n",
    "                                        break\n",
    "                            if not merged_to_ds:\n",
    "                                self.discard_set.append(new_rs_cf_final)\n",
    "\n",
    "        # Asignar etiquetas finales a los puntos originales\n",
    "        self.labels_ = np.full(n_samples, -1, dtype=int) # -1 para puntos no asignados/outliers\n",
    "        for i in range(n_samples):\n",
    "            point = X[i]\n",
    "            min_dist = float('inf')\n",
    "            assigned_cluster_idx = -1\n",
    "            for cluster_idx, cf in enumerate(self.discard_set):\n",
    "                centroid = cf.get_centroid()\n",
    "                if centroid is not None:\n",
    "                    dist = np.linalg.norm(point - centroid)\n",
    "                    if dist < min_dist:\n",
    "                        min_dist = dist\n",
    "                        assigned_cluster_idx = cluster_idx\n",
    "            self.labels_[i] = assigned_cluster_idx\n",
    "        \n",
    "        return self\n",
    "\n",
    "    def get_cluster_centroids(self):\n",
    "        \"\"\"\n",
    "        Devuelve los centroides de los clusters finales.\n",
    "        \"\"\"\n",
    "        return np.array([cf.get_centroid() for cf in self.discard_set if cf.get_centroid() is not None])"
   ]
  },
  {
   "cell_type": "markdown",
   "id": "a17dd427",
   "metadata": {},
   "source": [
    "### Aplicacion de algoritmos"
   ]
  },
  {
   "cell_type": "markdown",
   "id": "d0923d8b",
   "metadata": {},
   "source": [
    "#### Evaluar K-Means"
   ]
  },
  {
   "cell_type": "code",
   "execution_count": 12,
   "id": "15f4789c",
   "metadata": {},
   "outputs": [
    {
     "name": "stdout",
     "output_type": "stream",
     "text": [
      "Mejor número de clusters: 9 con una puntuación de silueta de 0.35\n"
     ]
    }
   ],
   "source": [
    "best_n_clusters = 0\n",
    "best_score = -1\n",
    "X = df.values\n",
    "\n",
    "# Cross-validation para encontrar el mejor número de clusters\n",
    "for n in range(2, 11):\n",
    "    kf = KFold(n_splits=5, shuffle=True, random_state=1234)\n",
    "    scores = []\n",
    "\n",
    "    for train_index, val_index in kf.split(df):\n",
    "        X_train, X_val = X[train_index], X[val_index]\n",
    "        model = KMeans(n_clusters=n, random_state=1234)\n",
    "        model.fit(X_train)\n",
    "        labels = model.predict(X_val)\n",
    "\n",
    "        score = silhouette_score(X_val, labels)\n",
    "        scores.append(score)\n",
    "\n",
    "    avg_score = np.mean(scores)\n",
    "    if avg_score > best_score:\n",
    "        best_score = avg_score\n",
    "        best_n_clusters = n\n",
    "\n",
    "print(f\"Mejor número de clusters: {best_n_clusters} con una puntuación de silueta de {best_score:.2f}\")\n",
    "\n",
    "# Aplicar KMeans con el mejor número de clusters\n",
    "kmeans = KMeans(n_clusters=best_n_clusters, random_state=1234)\n",
    "kmeans.fit(X)\n",
    "labels = kmeans.labels_\n",
    "df[\"KMeans_Labels\"] = labels"
   ]
  },
  {
   "cell_type": "markdown",
   "id": "a285ae75",
   "metadata": {},
   "source": [
    "#### Evaluar DB-Scan"
   ]
  },
  {
   "cell_type": "code",
   "execution_count": 13,
   "id": "d3afd4c6",
   "metadata": {},
   "outputs": [],
   "source": [
    "# Evaluar dbscan\n",
    "dbscan = DBSCAN(eps = 2) # Valores mas pequeños deja puntos sin cluster\n",
    "dbscan.fit(df.values)\n",
    "dbscan_labels = dbscan.labels_\n",
    "df[\"DBSCAN_Labels\"] = dbscan_labels"
   ]
  },
  {
   "cell_type": "markdown",
   "id": "08ce19a0",
   "metadata": {},
   "source": [
    "#### Evaluar BFR"
   ]
  },
  {
   "cell_type": "code",
   "execution_count": 14,
   "id": "bd5ef8e1",
   "metadata": {},
   "outputs": [],
   "source": [
    "bfr = BFRClustering(initial_n_clusters=9, distance_threshold=2.0, cs_threshold_factor=2.0, rs_max_size=50, chunk_size=50, random_state=1234)\n",
    "bfr.fit(X)\n",
    "df[\"BFR_Labels\"] = bfr.labels_"
   ]
  },
  {
   "cell_type": "markdown",
   "id": "d3d100cf",
   "metadata": {},
   "source": [
    "### Visualizacion de resultados"
   ]
  },
  {
   "cell_type": "markdown",
   "id": "8a28a068",
   "metadata": {},
   "source": [
    "Como el dataset tiene 5 dimensiones, vamos a reducirlo a 2 dimensiones usando PCA para poder visualizar los resultados de los algoritmos de clustering."
   ]
  },
  {
   "cell_type": "code",
   "execution_count": 15,
   "id": "bb283569",
   "metadata": {},
   "outputs": [],
   "source": [
    "pca = PCA(n_components=2)\n",
    "pca_result = pca.fit_transform(df)\n",
    "df_pca = pd.DataFrame(data=pca_result, columns=[\"PCA1\", \"PCA2\"]) # DataFrame con las dos componentes principales"
   ]
  },
  {
   "cell_type": "markdown",
   "id": "8a32ab33",
   "metadata": {},
   "source": [
    "Agregar las etiquetas de los clusters al DataFrame reducido"
   ]
  },
  {
   "cell_type": "code",
   "execution_count": 16,
   "id": "97edb434",
   "metadata": {},
   "outputs": [],
   "source": [
    "df_pca[\"KMeans_Labels\"] = df[\"KMeans_Labels\"]\n",
    "df_pca[\"DBSCAN_Labels\"] = df[\"DBSCAN_Labels\"]\n",
    "df_pca[\"BFR_Labels\"] = df[\"BFR_Labels\"]"
   ]
  },
  {
   "cell_type": "markdown",
   "id": "01df2c61",
   "metadata": {},
   "source": [
    "#### K-Means"
   ]
  },
  {
   "cell_type": "code",
   "execution_count": 17,
   "id": "a8be0e9f",
   "metadata": {},
   "outputs": [
    {
     "data": {
      "image/png": "[encoded data removed]",
      "text/plain": [
       "<Figure size 1200x600 with 1 Axes>"
      ]
     },
     "metadata": {},
     "output_type": "display_data"
    }
   ],
   "source": [
    "plt.figure(figsize=(12, 6))\n",
    "sns.scatterplot(data=df_pca, x=\"PCA1\", y=\"PCA2\", hue=\"KMeans_Labels\", palette=\"viridis\", alpha=0.6)\n",
    "plt.title(\"K-Means Clustering Results\")\n",
    "plt.xlabel(\"PCA Component 1\")\n",
    "plt.ylabel(\"PCA Component 2\")\n",
    "plt.legend(title=\"K-Means Labels\")\n",
    "plt.show()"
   ]
  },
  {
   "cell_type": "markdown",
   "id": "076a2f1e",
   "metadata": {},
   "source": [
    "#### DB-Scan"
   ]
  },
  {
   "cell_type": "code",
   "execution_count": 18,
   "id": "6b188294",
   "metadata": {},
   "outputs": [
    {
     "data": {
      "image/png": "[encoded data removed]",
      "text/plain": [
       "<Figure size 1200x600 with 1 Axes>"
      ]
     },
     "metadata": {},
     "output_type": "display_data"
    }
   ],
   "source": [
    "plt.figure(figsize=(12, 6))\n",
    "sns.scatterplot(data=df_pca, x=\"PCA1\", y=\"PCA2\", hue=\"DBSCAN_Labels\", palette=\"viridis\", alpha=0.6)\n",
    "plt.title(\"DBSCAN Clustering Results\")\n",
    "plt.xlabel(\"PCA Component 1\")\n",
    "plt.ylabel(\"PCA Component 2\")\n",
    "plt.legend(title=\"DBSCAN Labels\")\n",
    "plt.show()"
   ]
  },
  {
   "cell_type": "markdown",
   "id": "cc92e994",
   "metadata": {},
   "source": [
    "#### BFR"
   ]
  },
  {
   "cell_type": "code",
   "execution_count": 19,
   "id": "0af2ec31",
   "metadata": {},
   "outputs": [
    {
     "data": {
      "image/png": "[encoded data removed]",
      "text/plain": [
       "<Figure size 1200x600 with 1 Axes>"
      ]
     },
     "metadata": {},
     "output_type": "display_data"
    }
   ],
   "source": [
    "plt.figure(figsize=(12, 6))\n",
    "sns.scatterplot(data=df_pca, x=\"PCA1\", y=\"PCA2\", hue=\"BFR_Labels\", palette=\"viridis\", alpha=0.6)\n",
    "plt.title(\"BFR Clustering Results\")\n",
    "plt.xlabel(\"PCA Component 1\")\n",
    "plt.ylabel(\"PCA Component 2\")\n",
    "plt.legend(title=\"BFR Labels\")\n",
    "plt.show()"
   ]
  },
  {
   "cell_type": "markdown",
   "id": "02b7a898",
   "metadata": {},
   "source": [
    "### Comparacion de resultados"
   ]
  },
  {
   "cell_type": "markdown",
   "id": "74067257",
   "metadata": {},
   "source": [
    "#### Metricas"
   ]
  },
  {
   "cell_type": "markdown",
   "id": "9d5adf6c",
   "metadata": {},
   "source": [
    "Como no tenemos una variable supervisada, la literatura sugiere las siguientes metricas para evaluar los resultados de los algoritmos de clustering:\n",
    "\n",
    "- **Silhouette Score**: Mide la calidad de la agrupación, donde un valor cercano a 1 indica que los puntos están bien agrupados.\n",
    "- **Davies-Bouldin Index**: Mide la separación entre los clusters, donde un valor más bajo indica una mejor separación.\n",
    "- **Calinski-Harabasz Index**: Mide la compacidad y separación de los clusters, donde un valor más alto indica una mejor calidad de clustering.\n",
    "\n",
    "Igualmente el tema de las metricas en clustering es un tema complejo al no tener una variable supervisada, por lo que es importante tener en cuenta el contexto del problema y los objetivos del clustering al elegir las metricas."
   ]
  },
  {
   "cell_type": "code",
   "execution_count": 20,
   "id": "8cbf2323",
   "metadata": {},
   "outputs": [
    {
     "name": "stdout",
     "output_type": "stream",
     "text": [
      "K-Means Silhouette Score: 0.6088872924639253\n",
      "K-Means Davies-Bouldin Score: 0.6004248425368445\n",
      "K-Means Calinski-Harabasz Score: 173.34644962017512\n",
      "\n",
      "DBSCAN Silhouette Score: 0.6088872924639253\n",
      "DBSCAN Davies-Bouldin Score: 0.6004248425368446\n",
      "DBSCAN Calinski-Harabasz Score: 173.34644962017512\n",
      "\n",
      "BFR Silhouette Score: 0.2317947122423255\n",
      "BFR Davies-Bouldin Score: 1.4140618766721178\n",
      "BFR Calinski-Harabasz Score: 32.77067314856087\n"
     ]
    }
   ],
   "source": [
    "# Metricas para K-Means\n",
    "kmeans_silhouette = silhouette_score(df.values, df[\"KMeans_Labels\"])\n",
    "kmeans_davies_bouldin = davies_bouldin_score(df.values, df[\"KMeans_Labels\"])\n",
    "kmeans_calinski_harabasz = calinski_harabasz_score(df.values, df[\"KMeans_Labels\"])\n",
    "print(f\"K-Means Silhouette Score: {kmeans_silhouette}\")\n",
    "print(f\"K-Means Davies-Bouldin Score: {kmeans_davies_bouldin}\")\n",
    "print(f\"K-Means Calinski-Harabasz Score: {kmeans_calinski_harabasz}\\n\",)\n",
    "\n",
    "# Metricas para DBSCAN\n",
    "dbscan_silhouette = silhouette_score(df.values, df[\"DBSCAN_Labels\"])\n",
    "dbscan_davies_bouldin = davies_bouldin_score(df.values, df[\"DBSCAN_Labels\"])\n",
    "dbscan_calinski_harabasz = calinski_harabasz_score(df.values, df[\"DBSCAN_Labels\"])\n",
    "print(f\"DBSCAN Silhouette Score: {dbscan_silhouette}\")\n",
    "print(f\"DBSCAN Davies-Bouldin Score: {dbscan_davies_bouldin}\")\n",
    "print(f\"DBSCAN Calinski-Harabasz Score: {dbscan_calinski_harabasz}\\n\")\n",
    "\n",
    "# Metricas para BFR\n",
    "bfr_silhouette = silhouette_score(df.values, df[\"BFR_Labels\"])\n",
    "bfr_davies_bouldin = davies_bouldin_score(df.values, df[\"BFR_Labels\"])\n",
    "bfr_calinski_harabasz = calinski_harabasz_score(df.values, df[\"BFR_Labels\"])\n",
    "print(f\"BFR Silhouette Score: {bfr_silhouette}\")\n",
    "print(f\"BFR Davies-Bouldin Score: {bfr_davies_bouldin}\")\n",
    "print(f\"BFR Calinski-Harabasz Score: {bfr_calinski_harabasz}\")\n"
   ]
  },
  {
   "cell_type": "markdown",
   "id": "f68cbc77",
   "metadata": {},
   "source": [
    "#### Conclusiones"
   ]
  },
  {
   "cell_type": "markdown",
   "id": "cc35d074",
   "metadata": {},
   "source": [
    "Vemos que el algoritmo K-Means armo los mismos clusters que el algoritmo DB-Scan. Lo cual es curioso, ya que el algoritmo K-Means es un algoritmo de clustering basado en centroides.\n",
    "\n",
    "Esta coincidencia sugiere que los clusters presentes en este conjunto de datos son compactos, bien separados y densamente poblados, lo que permite que ambos enfoques lleguen a resultados similares a pesar de sus diferencias metodológicas."
   ]
  },
  {
   "cell_type": "markdown",
   "id": "ed37a69d",
   "metadata": {},
   "source": [
    "Ademas de las graficas, parece ver que los grupos en cualquier caso estan bien agrupados, por lo que en mi criterio la metrica esto hace que la metrica mas relevante es la de Davies-Bouldin, que me indica que tan separados estan los grupos, ya no me interesa tanto la metrica de Silhouette Score, ya que los grupos estan bien agrupados."
   ]
  },
  {
   "cell_type": "markdown",
   "id": "2e608320",
   "metadata": {},
   "source": [
    "El algoritmo de BFR rinde peor que los otros dos en todas las metricas, lo cual es importante recordar que en este caso no se tomo ventaja de que los datos tenian gran dimensionalidad y que tenian un gran volumen.\n",
    "\n",
    "Por lo tanto la simplicidad de los datos y su baja dimensionalidad hacen convenientes el uso de K-Means y DB-Scan, que son algoritmos más simples y rápidos en este caso.\n",
    "\n",
    "Por lo que me quedaria con el clustering que hizo K-Means."
   ]
  },
  {
   "cell_type": "markdown",
   "id": "e0c06590",
   "metadata": {},
   "source": [
    "### Insights"
   ]
  },
  {
   "cell_type": "markdown",
   "id": "04261fc1",
   "metadata": {},
   "source": [
    "Vamos a volver a cargar el dataset original y agregar la columna de clusters del algoritmo K-Means, para ver insights sobre los clusters."
   ]
  },
  {
   "cell_type": "code",
   "execution_count": 21,
   "id": "195b4f90",
   "metadata": {},
   "outputs": [
    {
     "data": {
      "text/html": [
       "<div>\n",
       "<style scoped>\n",
       "    .dataframe tbody tr th:only-of-type {\n",
       "        vertical-align: middle;\n",
       "    }\n",
       "\n",
       "    .dataframe tbody tr th {\n",
       "        vertical-align: top;\n",
       "    }\n",
       "\n",
       "    .dataframe thead th {\n",
       "        text-align: right;\n",
       "    }\n",
       "</style>\n",
       "<table border=\"1\" class=\"dataframe\">\n",
       "  <thead>\n",
       "    <tr style=\"text-align: right;\">\n",
       "      <th></th>\n",
       "      <th>Gender</th>\n",
       "      <th>Age</th>\n",
       "      <th>Annual Income (k$)</th>\n",
       "      <th>Spending Score (1-100)</th>\n",
       "      <th>KMeans_Labels</th>\n",
       "      <th>DBSCAN_Labels</th>\n",
       "      <th>BFR_Labels</th>\n",
       "    </tr>\n",
       "  </thead>\n",
       "  <tbody>\n",
       "    <tr>\n",
       "      <th>0</th>\n",
       "      <td>-1.125328</td>\n",
       "      <td>-1.421003</td>\n",
       "      <td>-1.734646</td>\n",
       "      <td>-0.433713</td>\n",
       "      <td>3</td>\n",
       "      <td>0</td>\n",
       "      <td>5</td>\n",
       "    </tr>\n",
       "    <tr>\n",
       "      <th>1</th>\n",
       "      <td>-1.125328</td>\n",
       "      <td>-1.277829</td>\n",
       "      <td>-1.734646</td>\n",
       "      <td>1.192711</td>\n",
       "      <td>3</td>\n",
       "      <td>0</td>\n",
       "      <td>5</td>\n",
       "    </tr>\n",
       "    <tr>\n",
       "      <th>2</th>\n",
       "      <td>0.884186</td>\n",
       "      <td>-1.349416</td>\n",
       "      <td>-1.696572</td>\n",
       "      <td>-1.711618</td>\n",
       "      <td>0</td>\n",
       "      <td>1</td>\n",
       "      <td>7</td>\n",
       "    </tr>\n",
       "    <tr>\n",
       "      <th>3</th>\n",
       "      <td>0.884186</td>\n",
       "      <td>-1.134655</td>\n",
       "      <td>-1.696572</td>\n",
       "      <td>1.037814</td>\n",
       "      <td>6</td>\n",
       "      <td>2</td>\n",
       "      <td>3</td>\n",
       "    </tr>\n",
       "    <tr>\n",
       "      <th>4</th>\n",
       "      <td>0.884186</td>\n",
       "      <td>-0.561958</td>\n",
       "      <td>-1.658498</td>\n",
       "      <td>-0.394989</td>\n",
       "      <td>0</td>\n",
       "      <td>1</td>\n",
       "      <td>3</td>\n",
       "    </tr>\n",
       "  </tbody>\n",
       "</table>\n",
       "</div>"
      ],
      "text/plain": [
       "     Gender       Age  Annual Income (k$)  Spending Score (1-100)  \\\n",
       "0 -1.125328 -1.421003           -1.734646               -0.433713   \n",
       "1 -1.125328 -1.277829           -1.734646                1.192711   \n",
       "2  0.884186 -1.349416           -1.696572               -1.711618   \n",
       "3  0.884186 -1.134655           -1.696572                1.037814   \n",
       "4  0.884186 -0.561958           -1.658498               -0.394989   \n",
       "\n",
       "   KMeans_Labels  DBSCAN_Labels  BFR_Labels  \n",
       "0              3              0           5  \n",
       "1              3              0           5  \n",
       "2              0              1           7  \n",
       "3              6              2           3  \n",
       "4              0              1           3  "
      ]
     },
     "execution_count": 21,
     "metadata": {},
     "output_type": "execute_result"
    }
   ],
   "source": [
    "df.head()"
   ]
  },
  {
   "cell_type": "code",
   "execution_count": 23,
   "id": "41359201",
   "metadata": {},
   "outputs": [
    {
     "data": {
      "text/html": [
       "<div>\n",
       "<style scoped>\n",
       "    .dataframe tbody tr th:only-of-type {\n",
       "        vertical-align: middle;\n",
       "    }\n",
       "\n",
       "    .dataframe tbody tr th {\n",
       "        vertical-align: top;\n",
       "    }\n",
       "\n",
       "    .dataframe thead th {\n",
       "        text-align: right;\n",
       "    }\n",
       "</style>\n",
       "<table border=\"1\" class=\"dataframe\">\n",
       "  <thead>\n",
       "    <tr style=\"text-align: right;\">\n",
       "      <th></th>\n",
       "      <th>Gender</th>\n",
       "      <th>Age</th>\n",
       "      <th>Annual Income (k$)</th>\n",
       "      <th>Spending Score (1-100)</th>\n",
       "      <th>cluster</th>\n",
       "    </tr>\n",
       "  </thead>\n",
       "  <tbody>\n",
       "    <tr>\n",
       "      <th>0</th>\n",
       "      <td>Male</td>\n",
       "      <td>19</td>\n",
       "      <td>15</td>\n",
       "      <td>39</td>\n",
       "      <td>3</td>\n",
       "    </tr>\n",
       "    <tr>\n",
       "      <th>1</th>\n",
       "      <td>Male</td>\n",
       "      <td>21</td>\n",
       "      <td>15</td>\n",
       "      <td>81</td>\n",
       "      <td>3</td>\n",
       "    </tr>\n",
       "    <tr>\n",
       "      <th>2</th>\n",
       "      <td>Female</td>\n",
       "      <td>20</td>\n",
       "      <td>16</td>\n",
       "      <td>6</td>\n",
       "      <td>0</td>\n",
       "    </tr>\n",
       "    <tr>\n",
       "      <th>3</th>\n",
       "      <td>Female</td>\n",
       "      <td>23</td>\n",
       "      <td>16</td>\n",
       "      <td>77</td>\n",
       "      <td>6</td>\n",
       "    </tr>\n",
       "    <tr>\n",
       "      <th>4</th>\n",
       "      <td>Female</td>\n",
       "      <td>31</td>\n",
       "      <td>17</td>\n",
       "      <td>40</td>\n",
       "      <td>0</td>\n",
       "    </tr>\n",
       "  </tbody>\n",
       "</table>\n",
       "</div>"
      ],
      "text/plain": [
       "   Gender  Age  Annual Income (k$)  Spending Score (1-100)  cluster\n",
       "0    Male   19                  15                      39        3\n",
       "1    Male   21                  15                      81        3\n",
       "2  Female   20                  16                       6        0\n",
       "3  Female   23                  16                      77        6\n",
       "4  Female   31                  17                      40        0"
      ]
     },
     "execution_count": 23,
     "metadata": {},
     "output_type": "execute_result"
    }
   ],
   "source": [
    "original = pd.read_csv(\"Mall_Customers.csv\")\n",
    "original = original.drop(columns=[\"CustomerID\"])\n",
    "original[\"cluster\"] = df[\"KMeans_Labels\"]\n",
    "original.head()"
   ]
  },
  {
   "cell_type": "code",
   "execution_count": 24,
   "id": "93f940ef",
   "metadata": {},
   "outputs": [
    {
     "data": {
      "text/html": [
       "<div>\n",
       "<style scoped>\n",
       "    .dataframe tbody tr th:only-of-type {\n",
       "        vertical-align: middle;\n",
       "    }\n",
       "\n",
       "    .dataframe tbody tr th {\n",
       "        vertical-align: top;\n",
       "    }\n",
       "\n",
       "    .dataframe thead th {\n",
       "        text-align: right;\n",
       "    }\n",
       "</style>\n",
       "<table border=\"1\" class=\"dataframe\">\n",
       "  <thead>\n",
       "    <tr style=\"text-align: right;\">\n",
       "      <th></th>\n",
       "      <th>cluster</th>\n",
       "      <th>0</th>\n",
       "      <th>1</th>\n",
       "      <th>2</th>\n",
       "      <th>3</th>\n",
       "      <th>4</th>\n",
       "      <th>5</th>\n",
       "      <th>6</th>\n",
       "      <th>7</th>\n",
       "      <th>8</th>\n",
       "    </tr>\n",
       "  </thead>\n",
       "  <tbody>\n",
       "    <tr>\n",
       "      <th rowspan=\"8\" valign=\"top\">Age</th>\n",
       "      <th>count</th>\n",
       "      <td>30.000000</td>\n",
       "      <td>19.000000</td>\n",
       "      <td>22.000000</td>\n",
       "      <td>25.000000</td>\n",
       "      <td>32.000000</td>\n",
       "      <td>26.000000</td>\n",
       "      <td>13.000000</td>\n",
       "      <td>15.000000</td>\n",
       "      <td>18.000000</td>\n",
       "    </tr>\n",
       "    <tr>\n",
       "      <th>mean</th>\n",
       "      <td>28.533333</td>\n",
       "      <td>38.473684</td>\n",
       "      <td>32.545455</td>\n",
       "      <td>25.720000</td>\n",
       "      <td>52.968750</td>\n",
       "      <td>58.846154</td>\n",
       "      <td>25.461538</td>\n",
       "      <td>44.600000</td>\n",
       "      <td>33.277778</td>\n",
       "    </tr>\n",
       "    <tr>\n",
       "      <th>std</th>\n",
       "      <td>6.678495</td>\n",
       "      <td>12.001706</td>\n",
       "      <td>3.432718</td>\n",
       "      <td>7.115242</td>\n",
       "      <td>7.718785</td>\n",
       "      <td>8.048316</td>\n",
       "      <td>5.221995</td>\n",
       "      <td>7.660660</td>\n",
       "      <td>4.389902</td>\n",
       "    </tr>\n",
       "    <tr>\n",
       "      <th>min</th>\n",
       "      <td>18.000000</td>\n",
       "      <td>19.000000</td>\n",
       "      <td>27.000000</td>\n",
       "      <td>18.000000</td>\n",
       "      <td>42.000000</td>\n",
       "      <td>47.000000</td>\n",
       "      <td>20.000000</td>\n",
       "      <td>34.000000</td>\n",
       "      <td>27.000000</td>\n",
       "    </tr>\n",
       "    <tr>\n",
       "      <th>25%</th>\n",
       "      <td>23.000000</td>\n",
       "      <td>32.500000</td>\n",
       "      <td>30.000000</td>\n",
       "      <td>19.000000</td>\n",
       "      <td>48.500000</td>\n",
       "      <td>52.250000</td>\n",
       "      <td>22.000000</td>\n",
       "      <td>39.000000</td>\n",
       "      <td>30.000000</td>\n",
       "    </tr>\n",
       "    <tr>\n",
       "      <th>50%</th>\n",
       "      <td>28.500000</td>\n",
       "      <td>40.000000</td>\n",
       "      <td>32.000000</td>\n",
       "      <td>24.000000</td>\n",
       "      <td>50.000000</td>\n",
       "      <td>59.000000</td>\n",
       "      <td>23.000000</td>\n",
       "      <td>44.000000</td>\n",
       "      <td>32.000000</td>\n",
       "    </tr>\n",
       "    <tr>\n",
       "      <th>75%</th>\n",
       "      <td>33.500000</td>\n",
       "      <td>46.500000</td>\n",
       "      <td>35.000000</td>\n",
       "      <td>31.000000</td>\n",
       "      <td>58.500000</td>\n",
       "      <td>66.750000</td>\n",
       "      <td>30.000000</td>\n",
       "      <td>49.500000</td>\n",
       "      <td>37.500000</td>\n",
       "    </tr>\n",
       "    <tr>\n",
       "      <th>max</th>\n",
       "      <td>40.000000</td>\n",
       "      <td>59.000000</td>\n",
       "      <td>40.000000</td>\n",
       "      <td>40.000000</td>\n",
       "      <td>68.000000</td>\n",
       "      <td>70.000000</td>\n",
       "      <td>35.000000</td>\n",
       "      <td>57.000000</td>\n",
       "      <td>40.000000</td>\n",
       "    </tr>\n",
       "    <tr>\n",
       "      <th rowspan=\"8\" valign=\"top\">Annual Income (k$)</th>\n",
       "      <th>count</th>\n",
       "      <td>30.000000</td>\n",
       "      <td>19.000000</td>\n",
       "      <td>22.000000</td>\n",
       "      <td>25.000000</td>\n",
       "      <td>32.000000</td>\n",
       "      <td>26.000000</td>\n",
       "      <td>13.000000</td>\n",
       "      <td>15.000000</td>\n",
       "      <td>18.000000</td>\n",
       "    </tr>\n",
       "    <tr>\n",
       "      <th>mean</th>\n",
       "      <td>50.100000</td>\n",
       "      <td>85.894737</td>\n",
       "      <td>85.272727</td>\n",
       "      <td>40.400000</td>\n",
       "      <td>48.062500</td>\n",
       "      <td>48.692308</td>\n",
       "      <td>25.692308</td>\n",
       "      <td>92.333333</td>\n",
       "      <td>87.111111</td>\n",
       "    </tr>\n",
       "    <tr>\n",
       "      <th>std</th>\n",
       "      <td>17.227384</td>\n",
       "      <td>16.110365</td>\n",
       "      <td>14.286796</td>\n",
       "      <td>17.358955</td>\n",
       "      <td>12.878934</td>\n",
       "      <td>14.529334</td>\n",
       "      <td>8.239990</td>\n",
       "      <td>16.438920</td>\n",
       "      <td>18.929867</td>\n",
       "    </tr>\n",
       "    <tr>\n",
       "      <th>min</th>\n",
       "      <td>16.000000</td>\n",
       "      <td>71.000000</td>\n",
       "      <td>69.000000</td>\n",
       "      <td>15.000000</td>\n",
       "      <td>20.000000</td>\n",
       "      <td>19.000000</td>\n",
       "      <td>16.000000</td>\n",
       "      <td>73.000000</td>\n",
       "      <td>69.000000</td>\n",
       "    </tr>\n",
       "    <tr>\n",
       "      <th>25%</th>\n",
       "      <td>40.000000</td>\n",
       "      <td>77.000000</td>\n",
       "      <td>76.250000</td>\n",
       "      <td>24.000000</td>\n",
       "      <td>39.750000</td>\n",
       "      <td>43.000000</td>\n",
       "      <td>19.000000</td>\n",
       "      <td>78.000000</td>\n",
       "      <td>73.500000</td>\n",
       "    </tr>\n",
       "    <tr>\n",
       "      <th>50%</th>\n",
       "      <td>55.500000</td>\n",
       "      <td>81.000000</td>\n",
       "      <td>78.500000</td>\n",
       "      <td>42.000000</td>\n",
       "      <td>48.500000</td>\n",
       "      <td>51.500000</td>\n",
       "      <td>23.000000</td>\n",
       "      <td>88.000000</td>\n",
       "      <td>82.500000</td>\n",
       "    </tr>\n",
       "    <tr>\n",
       "      <th>75%</th>\n",
       "      <td>62.750000</td>\n",
       "      <td>87.500000</td>\n",
       "      <td>94.750000</td>\n",
       "      <td>54.000000</td>\n",
       "      <td>58.250000</td>\n",
       "      <td>61.750000</td>\n",
       "      <td>33.000000</td>\n",
       "      <td>102.000000</td>\n",
       "      <td>91.750000</td>\n",
       "    </tr>\n",
       "    <tr>\n",
       "      <th>max</th>\n",
       "      <td>76.000000</td>\n",
       "      <td>137.000000</td>\n",
       "      <td>120.000000</td>\n",
       "      <td>67.000000</td>\n",
       "      <td>67.000000</td>\n",
       "      <td>71.000000</td>\n",
       "      <td>39.000000</td>\n",
       "      <td>126.000000</td>\n",
       "      <td>137.000000</td>\n",
       "    </tr>\n",
       "    <tr>\n",
       "      <th rowspan=\"8\" valign=\"top\">Spending Score (1-100)</th>\n",
       "      <th>count</th>\n",
       "      <td>30.000000</td>\n",
       "      <td>19.000000</td>\n",
       "      <td>22.000000</td>\n",
       "      <td>25.000000</td>\n",
       "      <td>32.000000</td>\n",
       "      <td>26.000000</td>\n",
       "      <td>13.000000</td>\n",
       "      <td>15.000000</td>\n",
       "      <td>18.000000</td>\n",
       "    </tr>\n",
       "    <tr>\n",
       "      <th>mean</th>\n",
       "      <td>42.133333</td>\n",
       "      <td>14.210526</td>\n",
       "      <td>80.590909</td>\n",
       "      <td>59.000000</td>\n",
       "      <td>42.593750</td>\n",
       "      <td>39.846154</td>\n",
       "      <td>80.538462</td>\n",
       "      <td>21.600000</td>\n",
       "      <td>82.666667</td>\n",
       "    </tr>\n",
       "    <tr>\n",
       "      <th>std</th>\n",
       "      <td>13.169278</td>\n",
       "      <td>9.801241</td>\n",
       "      <td>9.158182</td>\n",
       "      <td>18.227726</td>\n",
       "      <td>14.927479</td>\n",
       "      <td>17.721608</td>\n",
       "      <td>10.697472</td>\n",
       "      <td>9.701252</td>\n",
       "      <td>11.103788</td>\n",
       "    </tr>\n",
       "    <tr>\n",
       "      <th>min</th>\n",
       "      <td>6.000000</td>\n",
       "      <td>1.000000</td>\n",
       "      <td>58.000000</td>\n",
       "      <td>13.000000</td>\n",
       "      <td>5.000000</td>\n",
       "      <td>3.000000</td>\n",
       "      <td>65.000000</td>\n",
       "      <td>5.000000</td>\n",
       "      <td>63.000000</td>\n",
       "    </tr>\n",
       "    <tr>\n",
       "      <th>25%</th>\n",
       "      <td>40.000000</td>\n",
       "      <td>8.500000</td>\n",
       "      <td>74.250000</td>\n",
       "      <td>49.000000</td>\n",
       "      <td>40.250000</td>\n",
       "      <td>37.250000</td>\n",
       "      <td>73.000000</td>\n",
       "      <td>16.000000</td>\n",
       "      <td>74.250000</td>\n",
       "    </tr>\n",
       "    <tr>\n",
       "      <th>50%</th>\n",
       "      <td>42.000000</td>\n",
       "      <td>13.000000</td>\n",
       "      <td>81.000000</td>\n",
       "      <td>56.000000</td>\n",
       "      <td>47.500000</td>\n",
       "      <td>46.000000</td>\n",
       "      <td>77.000000</td>\n",
       "      <td>22.000000</td>\n",
       "      <td>85.500000</td>\n",
       "    </tr>\n",
       "    <tr>\n",
       "      <th>75%</th>\n",
       "      <td>50.750000</td>\n",
       "      <td>17.500000</td>\n",
       "      <td>87.750000</td>\n",
       "      <td>73.000000</td>\n",
       "      <td>52.250000</td>\n",
       "      <td>51.000000</td>\n",
       "      <td>87.000000</td>\n",
       "      <td>27.500000</td>\n",
       "      <td>91.750000</td>\n",
       "    </tr>\n",
       "    <tr>\n",
       "      <th>max</th>\n",
       "      <td>61.000000</td>\n",
       "      <td>36.000000</td>\n",
       "      <td>95.000000</td>\n",
       "      <td>92.000000</td>\n",
       "      <td>59.000000</td>\n",
       "      <td>60.000000</td>\n",
       "      <td>99.000000</td>\n",
       "      <td>39.000000</td>\n",
       "      <td>97.000000</td>\n",
       "    </tr>\n",
       "  </tbody>\n",
       "</table>\n",
       "</div>"
      ],
      "text/plain": [
       "cluster                               0           1           2          3  \\\n",
       "Age                    count  30.000000   19.000000   22.000000  25.000000   \n",
       "                       mean   28.533333   38.473684   32.545455  25.720000   \n",
       "                       std     6.678495   12.001706    3.432718   7.115242   \n",
       "                       min    18.000000   19.000000   27.000000  18.000000   \n",
       "                       25%    23.000000   32.500000   30.000000  19.000000   \n",
       "                       50%    28.500000   40.000000   32.000000  24.000000   \n",
       "                       75%    33.500000   46.500000   35.000000  31.000000   \n",
       "                       max    40.000000   59.000000   40.000000  40.000000   \n",
       "Annual Income (k$)     count  30.000000   19.000000   22.000000  25.000000   \n",
       "                       mean   50.100000   85.894737   85.272727  40.400000   \n",
       "                       std    17.227384   16.110365   14.286796  17.358955   \n",
       "                       min    16.000000   71.000000   69.000000  15.000000   \n",
       "                       25%    40.000000   77.000000   76.250000  24.000000   \n",
       "                       50%    55.500000   81.000000   78.500000  42.000000   \n",
       "                       75%    62.750000   87.500000   94.750000  54.000000   \n",
       "                       max    76.000000  137.000000  120.000000  67.000000   \n",
       "Spending Score (1-100) count  30.000000   19.000000   22.000000  25.000000   \n",
       "                       mean   42.133333   14.210526   80.590909  59.000000   \n",
       "                       std    13.169278    9.801241    9.158182  18.227726   \n",
       "                       min     6.000000    1.000000   58.000000  13.000000   \n",
       "                       25%    40.000000    8.500000   74.250000  49.000000   \n",
       "                       50%    42.000000   13.000000   81.000000  56.000000   \n",
       "                       75%    50.750000   17.500000   87.750000  73.000000   \n",
       "                       max    61.000000   36.000000   95.000000  92.000000   \n",
       "\n",
       "cluster                               4          5          6           7  \\\n",
       "Age                    count  32.000000  26.000000  13.000000   15.000000   \n",
       "                       mean   52.968750  58.846154  25.461538   44.600000   \n",
       "                       std     7.718785   8.048316   5.221995    7.660660   \n",
       "                       min    42.000000  47.000000  20.000000   34.000000   \n",
       "                       25%    48.500000  52.250000  22.000000   39.000000   \n",
       "                       50%    50.000000  59.000000  23.000000   44.000000   \n",
       "                       75%    58.500000  66.750000  30.000000   49.500000   \n",
       "                       max    68.000000  70.000000  35.000000   57.000000   \n",
       "Annual Income (k$)     count  32.000000  26.000000  13.000000   15.000000   \n",
       "                       mean   48.062500  48.692308  25.692308   92.333333   \n",
       "                       std    12.878934  14.529334   8.239990   16.438920   \n",
       "                       min    20.000000  19.000000  16.000000   73.000000   \n",
       "                       25%    39.750000  43.000000  19.000000   78.000000   \n",
       "                       50%    48.500000  51.500000  23.000000   88.000000   \n",
       "                       75%    58.250000  61.750000  33.000000  102.000000   \n",
       "                       max    67.000000  71.000000  39.000000  126.000000   \n",
       "Spending Score (1-100) count  32.000000  26.000000  13.000000   15.000000   \n",
       "                       mean   42.593750  39.846154  80.538462   21.600000   \n",
       "                       std    14.927479  17.721608  10.697472    9.701252   \n",
       "                       min     5.000000   3.000000  65.000000    5.000000   \n",
       "                       25%    40.250000  37.250000  73.000000   16.000000   \n",
       "                       50%    47.500000  46.000000  77.000000   22.000000   \n",
       "                       75%    52.250000  51.000000  87.000000   27.500000   \n",
       "                       max    59.000000  60.000000  99.000000   39.000000   \n",
       "\n",
       "cluster                                8  \n",
       "Age                    count   18.000000  \n",
       "                       mean    33.277778  \n",
       "                       std      4.389902  \n",
       "                       min     27.000000  \n",
       "                       25%     30.000000  \n",
       "                       50%     32.000000  \n",
       "                       75%     37.500000  \n",
       "                       max     40.000000  \n",
       "Annual Income (k$)     count   18.000000  \n",
       "                       mean    87.111111  \n",
       "                       std     18.929867  \n",
       "                       min     69.000000  \n",
       "                       25%     73.500000  \n",
       "                       50%     82.500000  \n",
       "                       75%     91.750000  \n",
       "                       max    137.000000  \n",
       "Spending Score (1-100) count   18.000000  \n",
       "                       mean    82.666667  \n",
       "                       std     11.103788  \n",
       "                       min     63.000000  \n",
       "                       25%     74.250000  \n",
       "                       50%     85.500000  \n",
       "                       75%     91.750000  \n",
       "                       max     97.000000  "
      ]
     },
     "execution_count": 24,
     "metadata": {},
     "output_type": "execute_result"
    }
   ],
   "source": [
    "original.groupby('cluster').describe().T\n"
   ]
  },
  {
   "cell_type": "markdown",
   "id": "896e6e97",
   "metadata": {},
   "source": [
    "**Insights sobre los clusters:**\n",
    "\n",
    "- **Cluster 2, 6, 8**: Usuarios con más Spending Score, potencialmente interesados en promociones. Corresponde a gente en una adultez temprana.\n",
    "- **Cluster 1**: Usuarios con menos Spending Score, probablemente no interesados en promociones. Corresponde a gente en una adultez mediana.\n",
    "- **Cluster 0, 4, 5**: Clientes con Spending Score medio, potencialmente interesados en promociones. Gran rango de edades.\n",
    "- **Cluster 3**: Clientes jóvenes y un Spending Score medio.\n",
    "- **Cluster 7**: Gente mayor con dinero, pero con poco activo en su gasto."
   ]
  }
 ],
 "metadata": {
  "kernelspec": {
   "display_name": ".venv",
   "language": "python",
   "name": "python3"
  },
  "language_info": {
   "codemirror_mode": {
    "name": "ipython",
    "version": 3
   },
   "file_extension": ".py",
   "mimetype": "text/x-python",
   "name": "python",
   "nbconvert_exporter": "python",
   "pygments_lexer": "ipython3",
   "version": "3.13.0"
  }
 },
 "nbformat": 4,
 "nbformat_minor": 5
}
